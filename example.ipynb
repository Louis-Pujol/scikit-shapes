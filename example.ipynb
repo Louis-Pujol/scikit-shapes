{
 "cells": [
  {
   "cell_type": "code",
   "execution_count": 5,
   "metadata": {},
   "outputs": [
    {
     "ename": "ImportError",
     "evalue": "cannot import name 'ElasticMetric2' from 'skshapes.morphing' (/home/GitHub/scikit-shapes/skshapes/morphing/__init__.py)",
     "output_type": "error",
     "traceback": [
      "\u001b[0;31m---------------------------------------------------------------------------\u001b[0m",
      "\u001b[0;31mImportError\u001b[0m                               Traceback (most recent call last)",
      "\u001b[1;32m/home/GitHub/scikit-shapes/example.ipynb Cell 1\u001b[0m in \u001b[0;36m<cell line: 1>\u001b[0;34m()\u001b[0m\n\u001b[0;32m----> <a href='vscode-notebook-cell://ssh-remote%2Bkeops_full_container~localhost/home/GitHub/scikit-shapes/example.ipynb#W0sdnNjb2RlLXJlbW90ZQ%3D%3D?line=0'>1</a>\u001b[0m \u001b[39mfrom\u001b[39;00m \u001b[39mskshapes\u001b[39;00m\u001b[39m.\u001b[39;00m\u001b[39mmorphing\u001b[39;00m \u001b[39mimport\u001b[39;00m ElasticMetric, RigidMotion, ElasticMetric2\n\u001b[1;32m      <a href='vscode-notebook-cell://ssh-remote%2Bkeops_full_container~localhost/home/GitHub/scikit-shapes/example.ipynb#W0sdnNjb2RlLXJlbW90ZQ%3D%3D?line=1'>2</a>\u001b[0m \u001b[39mfrom\u001b[39;00m \u001b[39mskshapes\u001b[39;00m\u001b[39m.\u001b[39;00m\u001b[39mloss\u001b[39;00m \u001b[39mimport\u001b[39;00m OptimalTransportLoss, LandmarkLoss, NearestNeighborsLoss\n\u001b[1;32m      <a href='vscode-notebook-cell://ssh-remote%2Bkeops_full_container~localhost/home/GitHub/scikit-shapes/example.ipynb#W0sdnNjb2RlLXJlbW90ZQ%3D%3D?line=2'>3</a>\u001b[0m \u001b[39mfrom\u001b[39;00m \u001b[39mskshapes\u001b[39;00m\u001b[39m.\u001b[39;00m\u001b[39mdata\u001b[39;00m \u001b[39mimport\u001b[39;00m read\n",
      "\u001b[0;31mImportError\u001b[0m: cannot import name 'ElasticMetric2' from 'skshapes.morphing' (/home/GitHub/scikit-shapes/skshapes/morphing/__init__.py)"
     ]
    }
   ],
   "source": [
    "from skshapes.morphing import ElasticMetric, RigidMotion, ElasticMetric2\n",
    "from skshapes.loss import OptimalTransportLoss, LandmarkLoss, NearestNeighborsLoss\n",
    "from skshapes.data import read\n",
    "from skshapes.tasks import DistanceMatrix, Registration, Registration2\n",
    "import torch"
   ]
  },
  {
   "cell_type": "code",
   "execution_count": null,
   "metadata": {},
   "outputs": [
    {
     "name": "stdout",
     "output_type": "stream",
     "text": [
      "Aligning mesh005.ply to mesh047.ply...\n",
      "Aligning mesh001.ply to mesh047.ply...\n",
      "Aligning mesh042.ply to mesh047.ply...\n",
      "Aligning mesh027.ply to mesh047.ply...\n",
      "Aligning mesh003.ply to mesh047.ply...\n",
      "Aligning mesh023.ply to mesh047.ply...\n",
      "Aligning mesh026.ply to mesh047.ply...\n",
      "Aligning mesh022.ply to mesh047.ply...\n",
      "Aligning mesh028.ply to mesh047.ply...\n",
      "Aligning mesh033.ply to mesh047.ply...\n",
      "Aligning mesh021.ply to mesh047.ply...\n",
      "Aligning mesh044.ply to mesh047.ply...\n",
      "Aligning mesh004.ply to mesh047.ply...\n",
      "Aligning mesh024.ply to mesh047.ply...\n",
      "Aligning mesh070.ply to mesh047.ply...\n",
      "Aligning mesh029.ply to mesh047.ply...\n",
      "Aligning mesh034.ply to mesh047.ply...\n",
      "Aligning mesh011.ply to mesh047.ply...\n",
      "Aligning mesh048.ply to mesh047.ply...\n",
      "Aligning mesh012.ply to mesh047.ply...\n",
      "Aligning mesh068.ply to mesh047.ply...\n",
      "Aligning mesh052.ply to mesh047.ply...\n",
      "Aligning mesh000.ply to mesh047.ply...\n",
      "Aligning mesh065.ply to mesh047.ply...\n",
      "Aligning mesh018.ply to mesh047.ply...\n",
      "Aligning mesh032.ply to mesh047.ply...\n",
      "Aligning mesh046.ply to mesh047.ply...\n",
      "Aligning mesh038.ply to mesh047.ply...\n",
      "Aligning mesh017.ply to mesh047.ply...\n",
      "Aligning mesh025.ply to mesh047.ply...\n",
      "Aligning mesh040.ply to mesh047.ply...\n",
      "Aligning mesh036.ply to mesh047.ply...\n",
      "Aligning mesh016.ply to mesh047.ply...\n",
      "Aligning mesh010.ply to mesh047.ply...\n",
      "Aligning mesh064.ply to mesh047.ply...\n",
      "Aligning mesh057.ply to mesh047.ply...\n",
      "Aligning mesh041.ply to mesh047.ply...\n",
      "Aligning mesh058.ply to mesh047.ply...\n",
      "Aligning mesh030.ply to mesh047.ply...\n",
      "Aligning mesh069.ply to mesh047.ply...\n",
      "Aligning mesh056.ply to mesh047.ply...\n",
      "Aligning mesh009.ply to mesh047.ply...\n",
      "Aligning mesh054.ply to mesh047.ply...\n",
      "Aligning mesh060.ply to mesh047.ply...\n",
      "Aligning mesh053.ply to mesh047.ply...\n",
      "Aligning mesh071.ply to mesh047.ply...\n",
      "Aligning mesh002.ply to mesh047.ply...\n",
      "Aligning mesh063.ply to mesh047.ply...\n",
      "Aligning mesh019.ply to mesh047.ply...\n",
      "Aligning mesh045.ply to mesh047.ply...\n",
      "Aligning mesh043.ply to mesh047.ply...\n",
      "Aligning mesh020.ply to mesh047.ply...\n",
      "Aligning mesh037.ply to mesh047.ply...\n",
      "Aligning mesh067.ply to mesh047.ply...\n",
      "Aligning mesh050.ply to mesh047.ply...\n",
      "Aligning mesh007.ply to mesh047.ply...\n",
      "Aligning mesh061.ply to mesh047.ply...\n",
      "Aligning mesh049.ply to mesh047.ply...\n",
      "Aligning mesh066.ply to mesh047.ply...\n",
      "Aligning mesh013.ply to mesh047.ply...\n",
      "Aligning mesh035.ply to mesh047.ply...\n",
      "Aligning mesh015.ply to mesh047.ply...\n",
      "Aligning mesh062.ply to mesh047.ply...\n",
      "Aligning mesh014.ply to mesh047.ply...\n",
      "Aligning mesh059.ply to mesh047.ply...\n",
      "Aligning mesh039.ply to mesh047.ply...\n",
      "Aligning mesh006.ply to mesh047.ply...\n",
      "Aligning mesh031.ply to mesh047.ply...\n",
      "Aligning mesh055.ply to mesh047.ply...\n",
      "Aligning mesh008.ply to mesh047.ply...\n"
     ]
    }
   ],
   "source": [
    "## Rigid alignment (with landmarks)\n",
    "\n",
    "from skshapes.data import read\n",
    "from skshapes.tasks import Registration\n",
    "from skshapes.morphing import RigidMotion\n",
    "from skshapes.loss import LandmarkLoss\n",
    "from skshapes.optimization import LBFGS\n",
    "from skshapes.data import read\n",
    "\n",
    "import torch\n",
    "import os\n",
    "\n",
    "targetfolder = \"data/SCAPE_low_resolution_aligned\"\n",
    "datafolder = \"data/SCAPE_low_resolution\"\n",
    "\n",
    "files = os.listdir(datafolder)\n",
    "reference = read(datafolder + \"/\" + files[0])\n",
    "rest = [read(datafolder + \"/\" + file) for file in files[1:]]\n",
    "\n",
    "N = reference.points.shape[0]\n",
    "reference.landmarks = torch.arange(N, dtype=torch.int64)\n",
    "reference.to_pyvista().save(targetfolder + \"/\" + files[0])\n",
    "\n",
    "for i, mesh in enumerate(rest):\n",
    "    print(\"Aligning \" + files[i + 1] + \" to \" + files[0] + \"...\")\n",
    "    mesh.landmarks = torch.arange(N, dtype=torch.int64)\n",
    "\n",
    "    r = Registration(\n",
    "        model=RigidMotion(),\n",
    "        loss=LandmarkLoss(p=2),\n",
    "        optimizer=LBFGS(),\n",
    "        verbose=0,\n",
    "        n_iter=2,\n",
    "        device=\"cpu\",\n",
    "    )\n",
    "\n",
    "    morphed = r.fit_transform(source=mesh, target=reference)\n",
    "    morphed.to_pyvista().save(targetfolder + \"/\" + files[i + 1])"
   ]
  },
  {
   "cell_type": "code",
   "execution_count": null,
   "metadata": {},
   "outputs": [
    {
     "name": "stdout",
     "output_type": "stream",
     "text": [
      "[pyKeOps] Warning : at least one of the input tensors is not contiguous. Consider using contiguous data arrays to avoid unnecessary copies.\n",
      "[pyKeOps] Warning : at least one of the input tensors is not contiguous. Consider using contiguous data arrays to avoid unnecessary copies.\n",
      "[pyKeOps] Warning : at least one of the input tensors is not contiguous. Consider using contiguous data arrays to avoid unnecessary copies.\n",
      "[pyKeOps] Warning : at least one of the input tensors is not contiguous. Consider using contiguous data arrays to avoid unnecessary copies.\n",
      "[pyKeOps] Warning : at least one of the input tensors is not contiguous. Consider using contiguous data arrays to avoid unnecessary copies.\n",
      "[pyKeOps] Warning : at least one of the input tensors is not contiguous. Consider using contiguous data arrays to avoid unnecessary copies.\n",
      "[pyKeOps] Warning : at least one of the input tensors is not contiguous. Consider using contiguous data arrays to avoid unnecessary copies.\n",
      "[pyKeOps] Warning : at least one of the input tensors is not contiguous. Consider using contiguous data arrays to avoid unnecessary copies.\n",
      "[pyKeOps] Warning : at least one of the input tensors is not contiguous. Consider using contiguous data arrays to avoid unnecessary copies.\n",
      "[pyKeOps] Warning : at least one of the input tensors is not contiguous. Consider using contiguous data arrays to avoid unnecessary copies.\n",
      "[pyKeOps] Warning : at least one of the input tensors is not contiguous. Consider using contiguous data arrays to avoid unnecessary copies.\n",
      "[pyKeOps] Warning : at least one of the input tensors is not contiguous. Consider using contiguous data arrays to avoid unnecessary copies.\n",
      "[pyKeOps] Warning : at least one of the input tensors is not contiguous. Consider using contiguous data arrays to avoid unnecessary copies.\n",
      "[pyKeOps] Warning : at least one of the input tensors is not contiguous. Consider using contiguous data arrays to avoid unnecessary copies.\n",
      "[pyKeOps] Warning : at least one of the input tensors is not contiguous. Consider using contiguous data arrays to avoid unnecessary copies.\n",
      "[pyKeOps] Warning : at least one of the input tensors is not contiguous. Consider using contiguous data arrays to avoid unnecessary copies.\n",
      "[pyKeOps] Warning : at least one of the input tensors is not contiguous. Consider using contiguous data arrays to avoid unnecessary copies.\n",
      "[pyKeOps] Warning : at least one of the input tensors is not contiguous. Consider using contiguous data arrays to avoid unnecessary copies.\n",
      "[pyKeOps] Warning : at least one of the input tensors is not contiguous. Consider using contiguous data arrays to avoid unnecessary copies.\n",
      "[pyKeOps] Warning : at least one of the input tensors is not contiguous. Consider using contiguous data arrays to avoid unnecessary copies.\n",
      "[pyKeOps] Warning : at least one of the input tensors is not contiguous. Consider using contiguous data arrays to avoid unnecessary copies.\n",
      "[pyKeOps] Warning : at least one of the input tensors is not contiguous. Consider using contiguous data arrays to avoid unnecessary copies.\n",
      "[pyKeOps] Warning : at least one of the input tensors is not contiguous. Consider using contiguous data arrays to avoid unnecessary copies.\n",
      "[pyKeOps] Warning : at least one of the input tensors is not contiguous. Consider using contiguous data arrays to avoid unnecessary copies.\n",
      "[pyKeOps] Warning : at least one of the input tensors is not contiguous. Consider using contiguous data arrays to avoid unnecessary copies.\n",
      "Loss value at iteration 0 : 0.7949122190475464\n",
      "[pyKeOps] Warning : at least one of the input tensors is not contiguous. Consider using contiguous data arrays to avoid unnecessary copies.\n",
      "[pyKeOps] Warning : at least one of the input tensors is not contiguous. Consider using contiguous data arrays to avoid unnecessary copies.\n",
      "[pyKeOps] Warning : at least one of the input tensors is not contiguous. Consider using contiguous data arrays to avoid unnecessary copies.\n",
      "[pyKeOps] Warning : at least one of the input tensors is not contiguous. Consider using contiguous data arrays to avoid unnecessary copies.\n",
      "[pyKeOps] Warning : at least one of the input tensors is not contiguous. Consider using contiguous data arrays to avoid unnecessary copies.\n",
      "[pyKeOps] Warning : at least one of the input tensors is not contiguous. Consider using contiguous data arrays to avoid unnecessary copies.\n",
      "[pyKeOps] Warning : at least one of the input tensors is not contiguous. Consider using contiguous data arrays to avoid unnecessary copies.\n",
      "[pyKeOps] Warning : at least one of the input tensors is not contiguous. Consider using contiguous data arrays to avoid unnecessary copies.\n",
      "[pyKeOps] Warning : at least one of the input tensors is not contiguous. Consider using contiguous data arrays to avoid unnecessary copies.\n",
      "[pyKeOps] Warning : at least one of the input tensors is not contiguous. Consider using contiguous data arrays to avoid unnecessary copies.\n",
      "[pyKeOps] Warning : at least one of the input tensors is not contiguous. Consider using contiguous data arrays to avoid unnecessary copies.\n",
      "[pyKeOps] Warning : at least one of the input tensors is not contiguous. Consider using contiguous data arrays to avoid unnecessary copies.\n",
      "[pyKeOps] Warning : at least one of the input tensors is not contiguous. Consider using contiguous data arrays to avoid unnecessary copies.\n",
      "[pyKeOps] Warning : at least one of the input tensors is not contiguous. Consider using contiguous data arrays to avoid unnecessary copies.\n",
      "[pyKeOps] Warning : at least one of the input tensors is not contiguous. Consider using contiguous data arrays to avoid unnecessary copies.\n",
      "[pyKeOps] Warning : at least one of the input tensors is not contiguous. Consider using contiguous data arrays to avoid unnecessary copies.\n",
      "[pyKeOps] Warning : at least one of the input tensors is not contiguous. Consider using contiguous data arrays to avoid unnecessary copies.\n",
      "[pyKeOps] Warning : at least one of the input tensors is not contiguous. Consider using contiguous data arrays to avoid unnecessary copies.\n",
      "[pyKeOps] Warning : at least one of the input tensors is not contiguous. Consider using contiguous data arrays to avoid unnecessary copies.\n",
      "[pyKeOps] Warning : at least one of the input tensors is not contiguous. Consider using contiguous data arrays to avoid unnecessary copies.\n",
      "[pyKeOps] Warning : at least one of the input tensors is not contiguous. Consider using contiguous data arrays to avoid unnecessary copies.\n",
      "[pyKeOps] Warning : at least one of the input tensors is not contiguous. Consider using contiguous data arrays to avoid unnecessary copies.\n",
      "[pyKeOps] Warning : at least one of the input tensors is not contiguous. Consider using contiguous data arrays to avoid unnecessary copies.\n",
      "[pyKeOps] Warning : at least one of the input tensors is not contiguous. Consider using contiguous data arrays to avoid unnecessary copies.\n",
      "[pyKeOps] Warning : at least one of the input tensors is not contiguous. Consider using contiguous data arrays to avoid unnecessary copies.\n",
      "[pyKeOps] Warning : at least one of the input tensors is not contiguous. Consider using contiguous data arrays to avoid unnecessary copies.\n",
      "Loss value at iteration 1 : 0.2929014563560486\n",
      "[pyKeOps] Warning : at least one of the input tensors is not contiguous. Consider using contiguous data arrays to avoid unnecessary copies.\n",
      "[pyKeOps] Warning : at least one of the input tensors is not contiguous. Consider using contiguous data arrays to avoid unnecessary copies.\n",
      "[pyKeOps] Warning : at least one of the input tensors is not contiguous. Consider using contiguous data arrays to avoid unnecessary copies.\n",
      "[pyKeOps] Warning : at least one of the input tensors is not contiguous. Consider using contiguous data arrays to avoid unnecessary copies.\n",
      "[pyKeOps] Warning : at least one of the input tensors is not contiguous. Consider using contiguous data arrays to avoid unnecessary copies.\n",
      "[pyKeOps] Warning : at least one of the input tensors is not contiguous. Consider using contiguous data arrays to avoid unnecessary copies.\n",
      "[pyKeOps] Warning : at least one of the input tensors is not contiguous. Consider using contiguous data arrays to avoid unnecessary copies.\n",
      "[pyKeOps] Warning : at least one of the input tensors is not contiguous. Consider using contiguous data arrays to avoid unnecessary copies.\n",
      "[pyKeOps] Warning : at least one of the input tensors is not contiguous. Consider using contiguous data arrays to avoid unnecessary copies.\n",
      "[pyKeOps] Warning : at least one of the input tensors is not contiguous. Consider using contiguous data arrays to avoid unnecessary copies.\n",
      "[pyKeOps] Warning : at least one of the input tensors is not contiguous. Consider using contiguous data arrays to avoid unnecessary copies.\n",
      "[pyKeOps] Warning : at least one of the input tensors is not contiguous. Consider using contiguous data arrays to avoid unnecessary copies.\n",
      "[pyKeOps] Warning : at least one of the input tensors is not contiguous. Consider using contiguous data arrays to avoid unnecessary copies.\n",
      "[pyKeOps] Warning : at least one of the input tensors is not contiguous. Consider using contiguous data arrays to avoid unnecessary copies.\n",
      "[pyKeOps] Warning : at least one of the input tensors is not contiguous. Consider using contiguous data arrays to avoid unnecessary copies.\n",
      "[pyKeOps] Warning : at least one of the input tensors is not contiguous. Consider using contiguous data arrays to avoid unnecessary copies.\n",
      "[pyKeOps] Warning : at least one of the input tensors is not contiguous. Consider using contiguous data arrays to avoid unnecessary copies.\n",
      "[pyKeOps] Warning : at least one of the input tensors is not contiguous. Consider using contiguous data arrays to avoid unnecessary copies.\n",
      "[pyKeOps] Warning : at least one of the input tensors is not contiguous. Consider using contiguous data arrays to avoid unnecessary copies.\n",
      "[pyKeOps] Warning : at least one of the input tensors is not contiguous. Consider using contiguous data arrays to avoid unnecessary copies.\n",
      "[pyKeOps] Warning : at least one of the input tensors is not contiguous. Consider using contiguous data arrays to avoid unnecessary copies.\n",
      "[pyKeOps] Warning : at least one of the input tensors is not contiguous. Consider using contiguous data arrays to avoid unnecessary copies.\n",
      "[pyKeOps] Warning : at least one of the input tensors is not contiguous. Consider using contiguous data arrays to avoid unnecessary copies.\n",
      "[pyKeOps] Warning : at least one of the input tensors is not contiguous. Consider using contiguous data arrays to avoid unnecessary copies.\n",
      "[pyKeOps] Warning : at least one of the input tensors is not contiguous. Consider using contiguous data arrays to avoid unnecessary copies.\n",
      "Loss value at iteration 2 : 0.20722895860671997\n",
      "[pyKeOps] Warning : at least one of the input tensors is not contiguous. Consider using contiguous data arrays to avoid unnecessary copies.\n",
      "[pyKeOps] Warning : at least one of the input tensors is not contiguous. Consider using contiguous data arrays to avoid unnecessary copies.\n",
      "[pyKeOps] Warning : at least one of the input tensors is not contiguous. Consider using contiguous data arrays to avoid unnecessary copies.\n",
      "[pyKeOps] Warning : at least one of the input tensors is not contiguous. Consider using contiguous data arrays to avoid unnecessary copies.\n",
      "[pyKeOps] Warning : at least one of the input tensors is not contiguous. Consider using contiguous data arrays to avoid unnecessary copies.\n",
      "[pyKeOps] Warning : at least one of the input tensors is not contiguous. Consider using contiguous data arrays to avoid unnecessary copies.\n",
      "[pyKeOps] Warning : at least one of the input tensors is not contiguous. Consider using contiguous data arrays to avoid unnecessary copies.\n",
      "[pyKeOps] Warning : at least one of the input tensors is not contiguous. Consider using contiguous data arrays to avoid unnecessary copies.\n",
      "[pyKeOps] Warning : at least one of the input tensors is not contiguous. Consider using contiguous data arrays to avoid unnecessary copies.\n",
      "[pyKeOps] Warning : at least one of the input tensors is not contiguous. Consider using contiguous data arrays to avoid unnecessary copies.\n",
      "[pyKeOps] Warning : at least one of the input tensors is not contiguous. Consider using contiguous data arrays to avoid unnecessary copies.\n",
      "[pyKeOps] Warning : at least one of the input tensors is not contiguous. Consider using contiguous data arrays to avoid unnecessary copies.\n",
      "[pyKeOps] Warning : at least one of the input tensors is not contiguous. Consider using contiguous data arrays to avoid unnecessary copies.\n",
      "[pyKeOps] Warning : at least one of the input tensors is not contiguous. Consider using contiguous data arrays to avoid unnecessary copies.\n",
      "[pyKeOps] Warning : at least one of the input tensors is not contiguous. Consider using contiguous data arrays to avoid unnecessary copies.\n",
      "[pyKeOps] Warning : at least one of the input tensors is not contiguous. Consider using contiguous data arrays to avoid unnecessary copies.\n",
      "[pyKeOps] Warning : at least one of the input tensors is not contiguous. Consider using contiguous data arrays to avoid unnecessary copies.\n",
      "[pyKeOps] Warning : at least one of the input tensors is not contiguous. Consider using contiguous data arrays to avoid unnecessary copies.\n",
      "[pyKeOps] Warning : at least one of the input tensors is not contiguous. Consider using contiguous data arrays to avoid unnecessary copies.\n",
      "[pyKeOps] Warning : at least one of the input tensors is not contiguous. Consider using contiguous data arrays to avoid unnecessary copies.\n",
      "[pyKeOps] Warning : at least one of the input tensors is not contiguous. Consider using contiguous data arrays to avoid unnecessary copies.\n",
      "[pyKeOps] Warning : at least one of the input tensors is not contiguous. Consider using contiguous data arrays to avoid unnecessary copies.\n",
      "[pyKeOps] Warning : at least one of the input tensors is not contiguous. Consider using contiguous data arrays to avoid unnecessary copies.\n",
      "[pyKeOps] Warning : at least one of the input tensors is not contiguous. Consider using contiguous data arrays to avoid unnecessary copies.\n",
      "[pyKeOps] Warning : at least one of the input tensors is not contiguous. Consider using contiguous data arrays to avoid unnecessary copies.\n",
      "[pyKeOps] Warning : at least one of the input tensors is not contiguous. Consider using contiguous data arrays to avoid unnecessary copies.\n",
      "[pyKeOps] Warning : at least one of the input tensors is not contiguous. Consider using contiguous data arrays to avoid unnecessary copies.\n",
      "Loss value at iteration 3 : 0.11527351289987564\n",
      "[pyKeOps] Warning : at least one of the input tensors is not contiguous. Consider using contiguous data arrays to avoid unnecessary copies.\n",
      "[pyKeOps] Warning : at least one of the input tensors is not contiguous. Consider using contiguous data arrays to avoid unnecessary copies.\n",
      "[pyKeOps] Warning : at least one of the input tensors is not contiguous. Consider using contiguous data arrays to avoid unnecessary copies.\n",
      "[pyKeOps] Warning : at least one of the input tensors is not contiguous. Consider using contiguous data arrays to avoid unnecessary copies.\n",
      "[pyKeOps] Warning : at least one of the input tensors is not contiguous. Consider using contiguous data arrays to avoid unnecessary copies.\n",
      "[pyKeOps] Warning : at least one of the input tensors is not contiguous. Consider using contiguous data arrays to avoid unnecessary copies.\n",
      "[pyKeOps] Warning : at least one of the input tensors is not contiguous. Consider using contiguous data arrays to avoid unnecessary copies.\n",
      "[pyKeOps] Warning : at least one of the input tensors is not contiguous. Consider using contiguous data arrays to avoid unnecessary copies.\n",
      "[pyKeOps] Warning : at least one of the input tensors is not contiguous. Consider using contiguous data arrays to avoid unnecessary copies.\n",
      "[pyKeOps] Warning : at least one of the input tensors is not contiguous. Consider using contiguous data arrays to avoid unnecessary copies.\n",
      "Loss value at iteration 4 : 0.09861794114112854\n"
     ]
    }
   ],
   "source": [
    "##### ICP\n",
    "\n",
    "rotation = 1\n",
    "\n",
    "from skshapes.data import read, PolyData\n",
    "from skshapes.loss import NearestNeighborsLoss\n",
    "from skshapes.morphing import RigidMotion\n",
    "from skshapes.tasks import Registration\n",
    "from skshapes.optimization import LBFGS\n",
    "\n",
    "import torch\n",
    "\n",
    "# Load a mesh and apply a rotation\n",
    "mesh = read(\"data/SCAPE_low_resolution/mesh000.ply\")\n",
    "mesh.to_pyvista().save(\"source.vtk\")\n",
    "\n",
    "rotation = 5\n",
    "r = RigidMotion()\n",
    "parameter = torch.Tensor([[rotation, rotation, rotation], [0, 0, 0]])\n",
    "newmesh = r.morph(shape=mesh, parameter=parameter).morphed_shape\n",
    "newmesh.to_pyvista().save(\"target.vtk\")\n",
    "\n",
    "\n",
    "source = read(\"source.vtk\")\n",
    "target = read(\"target.vtk\")\n",
    "\n",
    "source.landmarks = torch.arange(source.points.shape[0], dtype=torch.int64)\n",
    "target.landmarks = torch.arange(target.points.shape[0], dtype=torch.int64)\n",
    "\n",
    "r = Registration(\n",
    "    model=RigidMotion(),\n",
    "    loss=NearestNeighborsLoss(),\n",
    "    optimizer=LBFGS(),\n",
    "    verbose=1,\n",
    "    n_iter=5,\n",
    "    device=\"cpu\",\n",
    ")\n",
    "\n",
    "morphed = r.fit_transform(source=source, target=target)\n",
    "morphed.to_pyvista().save(\"output.vtk\")"
   ]
  },
  {
   "cell_type": "code",
   "execution_count": null,
   "metadata": {},
   "outputs": [
    {
     "name": "stdout",
     "output_type": "stream",
     "text": [
      "Loss value at iteration 0 : 5.045347213745117\n",
      "Loss value at iteration 1 : 0.05011105164885521\n",
      "Loss value at iteration 2 : 0.05011105164885521\n",
      "Loss value at iteration 3 : 0.05011105164885521\n",
      "Loss value at iteration 4 : 0.05011105164885521\n",
      "0.27788662910461426\n"
     ]
    }
   ],
   "source": [
    "# Elastic registration (with landmarks)\n",
    "\n",
    "from skshapes.data import read\n",
    "from skshapes.loss import LandmarkLoss\n",
    "from skshapes.morphing import ElasticMetric\n",
    "from skshapes.tasks import Registration\n",
    "from skshapes.optimization import LBFGS\n",
    "\n",
    "import torch\n",
    "import os\n",
    "\n",
    "datafolder = \"data/SCAPE_low_resolution_aligned\"\n",
    "\n",
    "source = read(datafolder + \"/\" + \"mesh001.ply\")\n",
    "target = read(datafolder + \"/\" + \"mesh041.ply\")\n",
    "\n",
    "source.landmarks = torch.arange(source.points.shape[0], dtype=torch.int64)\n",
    "target.landmarks = torch.arange(target.points.shape[0], dtype=torch.int64)\n",
    "\n",
    "from time import time\n",
    "\n",
    "start = time()\n",
    "r = Registration(\n",
    "    model=ElasticMetric(n_steps=10),\n",
    "    loss=LandmarkLoss(),\n",
    "    optimizer=LBFGS(),\n",
    "    verbose=1,\n",
    "    n_iter=5,\n",
    "    regularization=100,\n",
    "    device=\"cpu\",\n",
    ")\n",
    "newshape = r.fit_transform(source=source, target=target)\n",
    "print(time() - start)"
   ]
  },
  {
   "cell_type": "code",
   "execution_count": null,
   "metadata": {},
   "outputs": [
    {
     "ename": "ImportError",
     "evalue": "cannot import name 'Shape' from 'skshapes.data' (/home/GitHub/scikit-shapes/skshapes/data/__init__.py)",
     "output_type": "error",
     "traceback": [
      "\u001b[0;31m---------------------------------------------------------------------------\u001b[0m",
      "\u001b[0;31mImportError\u001b[0m                               Traceback (most recent call last)",
      "\u001b[1;32m/home/GitHub/scikit-shapes/example.ipynb Cell 6\u001b[0m in \u001b[0;36m<cell line: 1>\u001b[0;34m()\u001b[0m\n\u001b[0;32m----> <a href='vscode-notebook-cell://ssh-remote%2Bkeops_full_container~localhost/home/GitHub/scikit-shapes/example.ipynb#W5sdnNjb2RlLXJlbW90ZQ%3D%3D?line=0'>1</a>\u001b[0m \u001b[39mfrom\u001b[39;00m \u001b[39mskshapes\u001b[39;00m\u001b[39m.\u001b[39;00m\u001b[39mpreprocessing\u001b[39;00m \u001b[39mimport\u001b[39;00m (\n\u001b[1;32m      <a href='vscode-notebook-cell://ssh-remote%2Bkeops_full_container~localhost/home/GitHub/scikit-shapes/example.ipynb#W5sdnNjb2RlLXJlbW90ZQ%3D%3D?line=1'>2</a>\u001b[0m     LandmarkSetter,\n\u001b[1;32m      <a href='vscode-notebook-cell://ssh-remote%2Bkeops_full_container~localhost/home/GitHub/scikit-shapes/example.ipynb#W5sdnNjb2RlLXJlbW90ZQ%3D%3D?line=2'>3</a>\u001b[0m     Pipeline,\n\u001b[1;32m      <a href='vscode-notebook-cell://ssh-remote%2Bkeops_full_container~localhost/home/GitHub/scikit-shapes/example.ipynb#W5sdnNjb2RlLXJlbW90ZQ%3D%3D?line=3'>4</a>\u001b[0m     Decimation,\n\u001b[1;32m      <a href='vscode-notebook-cell://ssh-remote%2Bkeops_full_container~localhost/home/GitHub/scikit-shapes/example.ipynb#W5sdnNjb2RlLXJlbW90ZQ%3D%3D?line=4'>5</a>\u001b[0m     AffineTransformation,\n\u001b[1;32m      <a href='vscode-notebook-cell://ssh-remote%2Bkeops_full_container~localhost/home/GitHub/scikit-shapes/example.ipynb#W5sdnNjb2RlLXJlbW90ZQ%3D%3D?line=5'>6</a>\u001b[0m )\n\u001b[1;32m      <a href='vscode-notebook-cell://ssh-remote%2Bkeops_full_container~localhost/home/GitHub/scikit-shapes/example.ipynb#W5sdnNjb2RlLXJlbW90ZQ%3D%3D?line=6'>7</a>\u001b[0m \u001b[39mfrom\u001b[39;00m \u001b[39mskshapes\u001b[39;00m\u001b[39m.\u001b[39;00m\u001b[39mdata\u001b[39;00m \u001b[39mimport\u001b[39;00m read\n\u001b[1;32m      <a href='vscode-notebook-cell://ssh-remote%2Bkeops_full_container~localhost/home/GitHub/scikit-shapes/example.ipynb#W5sdnNjb2RlLXJlbW90ZQ%3D%3D?line=7'>8</a>\u001b[0m \u001b[39mimport\u001b[39;00m \u001b[39mos\u001b[39;00m\n",
      "File \u001b[0;32m~/GitHub/scikit-shapes/skshapes/preprocessing/__init__.py:12\u001b[0m, in \u001b[0;36m<module>\u001b[0;34m\u001b[0m\n\u001b[1;32m     10\u001b[0m \u001b[39mimport\u001b[39;00m \u001b[39mnumpy\u001b[39;00m \u001b[39mas\u001b[39;00m \u001b[39mnp\u001b[39;00m\n\u001b[1;32m     11\u001b[0m \u001b[39mimport\u001b[39;00m \u001b[39mtorch\u001b[39;00m\n\u001b[0;32m---> 12\u001b[0m \u001b[39mfrom\u001b[39;00m \u001b[39m.\u001b[39;00m\u001b[39m.\u001b[39;00m\u001b[39mdata\u001b[39;00m \u001b[39mimport\u001b[39;00m Dataset, Shape\n\u001b[1;32m     14\u001b[0m \u001b[39mfrom\u001b[39;00m \u001b[39m.\u001b[39;00m\u001b[39mlandmarks_setter\u001b[39;00m \u001b[39mimport\u001b[39;00m LandmarkSetter\n\u001b[1;32m     15\u001b[0m \u001b[39mfrom\u001b[39;00m \u001b[39m.\u001b[39;00m\u001b[39mdecimation\u001b[39;00m \u001b[39mimport\u001b[39;00m Decimation\n",
      "\u001b[0;31mImportError\u001b[0m: cannot import name 'Shape' from 'skshapes.data' (/home/GitHub/scikit-shapes/skshapes/data/__init__.py)"
     ]
    }
   ],
   "source": [
    "from skshapes.preprocessing import (\n",
    "    LandmarkSetter,\n",
    "    Pipeline,\n",
    "    Decimation,\n",
    "    AffineTransformation,\n",
    ")\n",
    "from skshapes.data import read\n",
    "import os\n",
    "\n",
    "# Read the shapes\n",
    "datafolder = \"/home/GitHub/scikit-shapes-draft/data/SCAPE/decimated/\"\n",
    "shapes = [read(datafolder + \"/\" + f\"aligned_mesh{i:03d}.ply\") for i in range(4)]\n",
    "\n",
    "# Create a pipeline of preprocessing steps\n",
    "preprocessing = Pipeline(\n",
    "    steps=[\n",
    "        LandmarkSetter(landmarks=[[0, 1], [2, 3], [4, 5], [6, 70]], by_indices=True),\n",
    "        Decimation(target_reduction=0.95),\n",
    "        AffineTransformation(matrix=[[2, 0, 0], [0, 2, 0], [0, 0, 2]]),\n",
    "    ]\n",
    ")\n",
    "\n",
    "# Apply the preprocessing pipeline to the shapes and get the dataset\n",
    "dataset = preprocessing.fit_transform(shapes=shapes)\n",
    "\n",
    "for i in range(len(dataset)):\n",
    "    print(\"Size of shape {} : {}\".format(i, dataset[i].points.shape))\n",
    "    print(\"Landmarks of shape {} : {}\".format(i, dataset.landmarks[i]), end=\"\\n\\n\")"
   ]
  },
  {
   "cell_type": "code",
   "execution_count": null,
   "metadata": {},
   "outputs": [],
   "source": [
    "import torch\n",
    "\n",
    "\n",
    "def barycentric_coordinates(mesh, point):\n",
    "    # Compute the vectors from the point to the vertices\n",
    "    vertices = mesh.points\n",
    "    vectors = vertices - point\n",
    "    norms = torch.norm(vectors, dim=1)\n",
    "\n",
    "    tol = 1e-5  # TODO tol can be computed from the mesh resolution ?\n",
    "\n",
    "    # Test if a vector is zero (that means the point is a vertex of the mesh)\n",
    "    if torch.sum(vectors.abs().sum(dim=1) < tol):\n",
    "        indice = torch.where(\n",
    "            torch.all(torch.eq(vectors, torch.zeros_like(vectors)), dim=1)\n",
    "        )[0]\n",
    "        vertex_indice = int(indice[0])\n",
    "        print(\n",
    "            \"The point is a vertex of the mesh, at the following indice: {}\".format(\n",
    "                vertex_indice\n",
    "            )\n",
    "        )\n",
    "        return (torch.tensor(1.0), torch.tensor([vertex_indice]))\n",
    "\n",
    "    else:\n",
    "        # Normalize the vectors\n",
    "        vectors /= norms.reshape(-1, 1)\n",
    "\n",
    "        A = mesh.edges[0]\n",
    "        B = mesh.edges[1]\n",
    "\n",
    "        cos_angles = (vectors[A] * vectors[B]).sum(dim=1)\n",
    "        # If cos(angle) = -1 <=> angle = pi, the point is on an edge\n",
    "\n",
    "        if torch.sum((cos_angles - (-1)).abs() < tol):\n",
    "            indice = torch.where((cos_angles - (-1)).abs() < tol)[0]\n",
    "            edge_indice = int(indice[0])\n",
    "            print(\n",
    "                \"The point is on an edge of the mesh, at the following indice: {}\".format(\n",
    "                    edge_indice\n",
    "                )\n",
    "            )\n",
    "\n",
    "            # Coordinates\n",
    "            a, b = mesh.edges[:, edge_indice]\n",
    "            alpha = norms[b] / torch.norm(vertices[a] - vertices[b])\n",
    "            beta = norms[a] / torch.norm(vertices[a] - vertices[b])\n",
    "            assert torch.abs(alpha + beta - 1) < tol\n",
    "            assert (\n",
    "                (alpha * vertices[a] + beta * vertices[b]) - point\n",
    "            ).abs().sum() < tol\n",
    "            return (torch.tensor([alpha, beta]), torch.tensor([a, b]))\n",
    "\n",
    "        else:\n",
    "            A = mesh.triangles[0]\n",
    "            B = mesh.triangles[1]\n",
    "            C = mesh.triangles[2]\n",
    "\n",
    "            angles_1 = torch.acos((vectors[A] * vectors[B]).sum(dim=1))\n",
    "            angles_2 = torch.acos((vectors[B] * vectors[C]).sum(dim=1))\n",
    "            angles_3 = torch.acos((vectors[C] * vectors[A]).sum(dim=1))\n",
    "\n",
    "            sum_angles = angles_1 + angles_2 + angles_3\n",
    "            # If sum_angles is close to 2pi, the point is inside the triangle, or its projection is inside the triangle\n",
    "\n",
    "            if torch.sum((sum_angles - (2 * torch.pi)).abs() < tol):\n",
    "                indices = torch.where((sum_angles - (2 * torch.pi)).abs() < tol)[0]\n",
    "                # If several indices, we must find the one for which the point is inside irself the triangle, and not only its projection\n",
    "                for i in indices:\n",
    "                    a, b, c = mesh.triangles[:, i]\n",
    "                    normals = mesh.triangle_normals[i]\n",
    "\n",
    "                    if (\n",
    "                        torch.abs(vectors[a] @ normals.T)\n",
    "                        + torch.abs(vectors[b] @ normals.T)\n",
    "                        + torch.abs(vectors[c] @ normals.T)\n",
    "                        < tol\n",
    "                    ):\n",
    "                        indice_triangle = i\n",
    "\n",
    "                print(\n",
    "                    \"The point is inside a triangle of the mesh, at the following indice: {}\".format(\n",
    "                        indice_triangle\n",
    "                    )\n",
    "                )\n",
    "                # Coordinates\n",
    "                a, b, c = mesh.triangles[:, indice_triangle]\n",
    "                mat = torch.cat((vertices[a], vertices[b], vertices[c])).reshape(3, 3).T\n",
    "                alpha, beta, gamma = torch.inverse(mat) @ point\n",
    "                assert torch.abs(alpha + beta + gamma - 1) < tol\n",
    "                assert (\n",
    "                    (alpha * vertices[a] + beta * vertices[b] + gamma * vertices[c])\n",
    "                    - point\n",
    "                ).abs().sum() < tol\n",
    "                return (torch.tensor([alpha, beta, gamma]), torch.tensor([a, b, c]))\n",
    "\n",
    "            else:\n",
    "                print(\"The point is outside the mesh.\")"
   ]
  },
  {
   "cell_type": "code",
   "execution_count": null,
   "metadata": {},
   "outputs": [
    {
     "name": "stdout",
     "output_type": "stream",
     "text": [
      "The point is a vertex of the mesh, at the following indice: 42\n"
     ]
    },
    {
     "data": {
      "text/plain": [
       "(tensor(1.), tensor([42]))"
      ]
     },
     "execution_count": 2,
     "metadata": {},
     "output_type": "execute_result"
    }
   ],
   "source": [
    "from skshapes.data import read\n",
    "\n",
    "mesh = read(\"data/SCAPE_low_resolution/mesh000.ply\")\n",
    "\n",
    "vertices = mesh.points\n",
    "e0, e1 = mesh.edges[:, 45]\n",
    "point_edge = (mesh.points[e0] + 4 * mesh.points[e1]) / 5\n",
    "a, b, c = mesh.triangles[:, 100]\n",
    "point_triangle = (mesh.points[a] + 4 * mesh.points[b] + 2 * mesh.points[c]) / 7\n",
    "point_vertice = mesh.points[42]\n",
    "\n",
    "point = point_vertice\n",
    "\n",
    "barycentric_coordinates(mesh, point)"
   ]
  },
  {
   "cell_type": "code",
   "execution_count": null,
   "metadata": {},
   "outputs": [
    {
     "data": {
      "text/plain": [
       "2"
      ]
     },
     "execution_count": 138,
     "metadata": {},
     "output_type": "execute_result"
    }
   ],
   "source": [
    "from typing import NamedTuple\n",
    "\n",
    "from skshapes._typing import *\n",
    "\n",
    "\n",
    "class test(NamedTuple):\n",
    "    a: int = 0\n",
    "    b: int = 2\n",
    "\n",
    "\n",
    "t = test()\n",
    "t.b"
   ]
  },
  {
   "cell_type": "code",
   "execution_count": null,
   "metadata": {},
   "outputs": [],
   "source": [
    "import torch\n",
    "\n",
    "a = torch.load(\"landmarks.pt\")"
   ]
  },
  {
   "cell_type": "code",
   "execution_count": null,
   "metadata": {},
   "outputs": [
    {
     "name": "stdout",
     "output_type": "stream",
     "text": [
      "Indices : tensor([[73, 94, 92, 73, 75, 94, 62, 73],\n",
      "        [ 0,  0,  0,  1,  1,  1,  2,  3]])\n",
      "Values : tensor([0.2522, 0.3066, 0.4412, 0.0768, 0.6896, 0.2336, 1.0000, 1.0000],\n",
      "       dtype=torch.float64)\n"
     ]
    }
   ],
   "source": [
    "landmark0 = a[1]"
   ]
  },
  {
   "cell_type": "code",
   "execution_count": null,
   "metadata": {},
   "outputs": [
    {
     "ename": "ModuleNotFoundError",
     "evalue": "No module named 'torch'",
     "output_type": "error",
     "traceback": [
      "\u001b[0;31m---------------------------------------------------------------------------\u001b[0m",
      "\u001b[0;31mModuleNotFoundError\u001b[0m                       Traceback (most recent call last)",
      "Cell \u001b[0;32mIn[1], line 1\u001b[0m\n\u001b[0;32m----> 1\u001b[0m \u001b[39mimport\u001b[39;00m \u001b[39mtorch\u001b[39;00m\n\u001b[1;32m      3\u001b[0m A \u001b[39m=\u001b[39m torch\u001b[39m.\u001b[39mTensor([[\u001b[39m1.0\u001b[39m, \u001b[39m0\u001b[39m, \u001b[39m0\u001b[39m], [\u001b[39m4.1\u001b[39m, \u001b[39m0\u001b[39m, \u001b[39m6.1\u001b[39m], [\u001b[39m0\u001b[39m, \u001b[39m8.2\u001b[39m, \u001b[39m0\u001b[39m]])\n\u001b[1;32m      4\u001b[0m \u001b[39mtype\u001b[39m(A)\n",
      "\u001b[0;31mModuleNotFoundError\u001b[0m: No module named 'torch'"
     ]
    }
   ],
   "source": [
    "import torch\n",
    "\n",
    "A = torch.Tensor([[1.0, 0, 0], [4.1, 0, 6.1], [0, 8.2, 0]])\n",
    "type(A)\n",
    "B = A.to_sparse_coo()\n",
    "\n",
    "B.dtype"
   ]
  },
  {
   "cell_type": "code",
   "execution_count": null,
   "metadata": {},
   "outputs": [
    {
     "name": "stdout",
     "output_type": "stream",
     "text": [
      "cpu\n",
      "cpu\n"
     ]
    }
   ],
   "source": [
    "import skshapes\n",
    "\n",
    "from skshapes.loss import L2Loss\n",
    "from skshapes.data import read\n",
    "from skshapes.morphing import ElasticMetric, RigidMotion\n",
    "from skshapes.tasks import Registration\n",
    "from skshapes.optimization import LBFGS\n",
    "import vedo\n",
    "\n",
    "vedo.settings.default_backend = \"vtk\"\n",
    "from vedo.applications import Browser\n",
    "\n",
    "# Load the shapes\n",
    "source = read(\"data/SCAPE_low_resolution/mesh001.ply\")\n",
    "target = read(\"data/SCAPE_low_resolution/mesh041.ply\")\n",
    "\n",
    "\n",
    "def foo(model, loss, optimizer, regularization):\n",
    "    r = Registration(\n",
    "        model=model,\n",
    "        loss=loss,\n",
    "        optimizer=optimizer,\n",
    "        n_iter=5,\n",
    "        regularization=regularization,\n",
    "        device=\"cpu\",\n",
    "    )\n",
    "\n",
    "    newshape = r.fit_transform(source=source, target=target)\n",
    "\n",
    "    print(r.parameter.device)\n",
    "    print(source.device)\n",
    "\n",
    "    a = model.morph(shape=source, parameter=r.parameter, return_path=True)\n",
    "\n",
    "    meshes = a.path\n",
    "    meshes.append(target)\n",
    "\n",
    "    return meshes\n",
    "\n",
    "    # plt = Browser([vedo.Mesh(m.to_pyvista()) for m in meshes], resetcam=0, axes=0)  # a vedo.Plotter\n",
    "    # plt.show().close()\n",
    "\n",
    "\n",
    "r = Registration(\n",
    "    model=RigidMotion(),\n",
    "    loss=L2Loss(),\n",
    "    optimizer=LBFGS(),\n",
    "    n_iter=2,\n",
    ")\n",
    "\n",
    "print(source.device)\n",
    "print(target.device)\n",
    "\n",
    "source = r.fit_transform(source=source, target=target)\n",
    "source = source.to(\"cpu\")"
   ]
  },
  {
   "cell_type": "code",
   "execution_count": null,
   "metadata": {},
   "outputs": [
    {
     "name": "stdout",
     "output_type": "stream",
     "text": [
      "cpu\n",
      "cpu\n"
     ]
    }
   ],
   "source": [
    "model = ElasticMetric(n_steps=5)\n",
    "loss = L2Loss()\n",
    "optimizer = LBFGS()\n",
    "\n",
    "meshes = foo(model, loss, optimizer, regularization=1000)\n",
    "\n",
    "vedo.settings.default_backend = \"vtk\"\n",
    "Browser([vedo.Mesh(m.to_pyvista()) for m in meshes], resetcam=0, axes=0).show().close()"
   ]
  },
  {
   "cell_type": "code",
   "execution_count": null,
   "metadata": {},
   "outputs": [],
   "source": [
    "from skshapes.loss import OptimalTransportLoss\n",
    "\n",
    "loss = OptimalTransportLoss(loss=\"test\")"
   ]
  },
  {
   "cell_type": "code",
   "execution_count": null,
   "metadata": {},
   "outputs": [],
   "source": [
    "# Load data\n",
    "from skshapes.data import read\n",
    "import pyvista\n",
    "from skshapes.morphing import ElasticMetric, RigidMotion\n",
    "from skshapes.loss import NearestNeighborsLoss, OptimalTransportLoss, LandmarkLoss\n",
    "from skshapes.optimization import LBFGS\n",
    "\n",
    "import vedo\n",
    "from vedo.applications import Browser\n",
    "\n",
    "source = read(\"data/SCAPE_low_resolution/mesh001.ply\")\n",
    "target = read(\"data/SCAPE_low_resolution/mesh041.ply\")\n",
    "\n",
    "\n",
    "# ElasticMetric can only be used with polydata\n",
    "# RigidMotion can be used with all type of shapes\n",
    "\n",
    "\n",
    "model = RigidMotion()\n",
    "loss = NearestNeighborsLoss()\n",
    "optimizer = LBFGS(model.parameters(), lr=0.1)\n",
    "\n",
    "from skshapes.tasks import Registration\n",
    "\n",
    "\n",
    "def foo(model, loss, optimizer, regularization):\n",
    "    r = Registration(\n",
    "        model=model,\n",
    "        loss=loss,\n",
    "        optimizer=optimizer,\n",
    "        n_iter=5,\n",
    "        device=\"cpu\",\n",
    "        regularization=regularization,\n",
    "    )\n",
    "\n",
    "    print(loss, model)\n",
    "    newshape = r.fit_transform(source=source, target=target)\n",
    "\n",
    "    parameter = r.parameter.detach().cpu().clone()\n",
    "    n_frames = parameter.shape[0] + 1\n",
    "\n",
    "    meshes = [source.copy(device=\"cpu\") for _ in range(n_frames)]\n",
    "    for i in range(n_frames - 1):\n",
    "        meshes[i + 1].points = meshes[i].points + parameter[i]\n",
    "\n",
    "    meshes = [vedo.Mesh(mesh.to_pyvista()) for mesh in meshes] + [\n",
    "        vedo.Mesh(target.to_pyvista())\n",
    "    ]\n",
    "\n",
    "    plt = Browser(meshes, resetcam=0, axes=0)  # a vedo.Plotter\n",
    "    plt.show().close()"
   ]
  },
  {
   "cell_type": "code",
   "execution_count": null,
   "metadata": {},
   "outputs": [],
   "source": [
    "# import modules and load a model\n",
    "import torch\n",
    "import torchvision.models as models\n",
    "from torch.profiler import profile, record_function, ProfilerActivity"
   ]
  },
  {
   "cell_type": "code",
   "execution_count": null,
   "metadata": {},
   "outputs": [
    {
     "name": "stdout",
     "output_type": "stream",
     "text": [
      "-------------------------------------------------------  ------------  ------------  ------------  ------------  ------------  ------------  ------------  ------------  ------------  ------------  \n",
      "                                                   Name    Self CPU %      Self CPU   CPU total %     CPU total  CPU time avg     Self CUDA   Self CUDA %    CUDA total  CUDA time avg    # of Calls  \n",
      "-------------------------------------------------------  ------------  ------------  ------------  ------------  ------------  ------------  ------------  ------------  ------------  ------------  \n",
      "                                        model_inference         4.62%       2.538ms        67.49%      37.060ms      37.060ms       0.000us         0.00%     649.000us     649.000us             1  \n",
      "                                Optimizer.step#SGD.step        39.87%      21.896ms        49.25%      27.044ms      13.522ms       0.000us         0.00%     424.000us     212.000us             2  \n",
      "                                       aten::unique_dim         0.63%     346.000us         2.09%       1.150ms     383.333us     212.000us        20.27%     236.000us      78.667us             3  \n",
      "    autograd::engine::evaluate_function: IndexBackward0         0.17%      93.000us        22.80%      12.518ms       1.565ms       0.000us         0.00%     233.000us      29.125us             8  \n",
      "                                         IndexBackward0         1.29%     708.000us        22.63%      12.425ms       1.553ms       0.000us         0.00%     233.000us      29.125us             8  \n",
      "                                 aten::_index_put_impl_        17.00%       9.335ms        20.73%      11.381ms       1.423ms     132.000us        12.62%     217.000us      27.125us             8  \n",
      "void thrust::cuda_cub::core::_kernel_agent<thrust::c...         0.00%       0.000us         0.00%       0.000us       0.000us     183.000us        17.50%     183.000us      61.000us             3  \n",
      "                                            aten::copy_         1.07%     589.000us         9.84%       5.402ms      66.691us     134.000us        12.81%     134.000us       1.654us            81  \n",
      "                                            aten::index         0.99%     546.000us         1.88%       1.032ms      49.143us     104.000us         9.94%     104.000us       4.952us            21  \n",
      "                         Memcpy DtoD (Device -> Device)         0.00%       0.000us         0.00%       0.000us       0.000us      95.000us         9.08%      95.000us       2.065us            46  \n",
      "-------------------------------------------------------  ------------  ------------  ------------  ------------  ------------  ------------  ------------  ------------  ------------  ------------  \n",
      "Self CPU time total: 54.912ms\n",
      "Self CUDA time total: 1.046ms\n",
      "\n"
     ]
    }
   ],
   "source": [
    "from skshapes.data import read\n",
    "import pyvista\n",
    "from skshapes.morphing import ElasticMetric\n",
    "from skshapes.loss import L2Loss\n",
    "from skshapes.optimization import SGD\n",
    "from skshapes.tasks import Registration\n",
    "\n",
    "import vedo\n",
    "from vedo.applications import Browser\n",
    "\n",
    "source = read(\"data/SCAPE_low_resolution/mesh001.ply\")\n",
    "target = read(\"data/SCAPE_low_resolution/mesh041.ply\")\n",
    "\n",
    "\n",
    "def foo(model, loss, optimizer, regularization):\n",
    "    r = Registration(\n",
    "        model=model,\n",
    "        loss=loss,\n",
    "        optimizer=optimizer,\n",
    "        n_iter=2,\n",
    "        device=\"cuda\",\n",
    "        regularization=regularization,\n",
    "    )\n",
    "\n",
    "    newshape = r.fit_transform(source=source, target=target)\n",
    "\n",
    "\n",
    "model = ElasticMetric()\n",
    "loss = L2Loss()\n",
    "optimizer = SGD()\n",
    "\n",
    "\n",
    "with profile(\n",
    "    activities=[ProfilerActivity.CPU, ProfilerActivity.CUDA], record_shapes=True\n",
    ") as prof:\n",
    "    with record_function(\"model_inference\"):\n",
    "        foo(model, loss, optimizer, regularization=10)\n",
    "\n",
    "\n",
    "print(prof.key_averages().table(sort_by=\"cuda_time_total\", row_limit=10))\n",
    "prof.export_chrome_trace(\"trace.json\")"
   ]
  },
  {
   "cell_type": "code",
   "execution_count": null,
   "metadata": {},
   "outputs": [],
   "source": []
  },
  {
   "cell_type": "code",
   "execution_count": null,
   "metadata": {},
   "outputs": [],
   "source": [
    "import pyvista\n",
    "import numpy as np\n",
    "\n",
    "from skshapes.data import PolyData\n",
    "\n",
    "mesh = PolyData.from_pyvista(pyvista.Sphere())\n",
    "\n",
    "n_points = mesh.n_points\n",
    "n_triangles = mesh.n_triangles\n",
    "n_edges = mesh.n_edges\n",
    "\n",
    "n_landmarks = 10\n",
    "\n",
    "landmarks_type = np.random.choice([\"points\", \"edges\", \"triangles\"], n_landmarks)\n",
    "\n",
    "import torch\n",
    "\n",
    "# Create landmarks (coo matrix)"
   ]
  },
  {
   "cell_type": "code",
   "execution_count": null,
   "metadata": {},
   "outputs": [
    {
     "name": "stdout",
     "output_type": "stream",
     "text": [
      "be careful\n"
     ]
    }
   ],
   "source": [
    "import skshapes as sks\n",
    "import pyvista\n",
    "\n",
    "mesh = pyvista.Sphere()\n",
    "\n",
    "test0 = sks.PolyData.from_pyvista(mesh)\n",
    "test1 = sks.PolyData(\"data/SCAPE_low_resolution/mesh001.ply\")\n",
    "test2 = sks.PolyData(\"data/SCAPE_low_resolution/mesh001.ply\").decimate(0.5)"
   ]
  },
  {
   "cell_type": "code",
   "execution_count": null,
   "metadata": {},
   "outputs": [
    {
     "name": "stdout",
     "output_type": "stream",
     "text": [
      "127\n",
      "65\n"
     ]
    }
   ],
   "source": [
    "print(test1.n_points)\n",
    "print(test2.n_points)"
   ]
  },
  {
   "cell_type": "code",
   "execution_count": null,
   "metadata": {},
   "outputs": [
    {
     "data": {
      "text/plain": [
       "422"
      ]
     },
     "execution_count": 3,
     "metadata": {},
     "output_type": "execute_result"
    }
   ],
   "source": [
    "import pyvista\n",
    "\n",
    "sphere = pyvista.Sphere()\n",
    "sphere.decimate(0.5).n_points"
   ]
  },
  {
   "cell_type": "code",
   "execution_count": null,
   "metadata": {},
   "outputs": [
    {
     "name": "stdout",
     "output_type": "stream",
     "text": [
      "True <CallableBool>\n"
     ]
    },
    {
     "data": {
      "text/plain": [
       "tensor([[0, 1, 0],\n",
       "        [1, 2, 1],\n",
       "        [2, 3, 2]])"
      ]
     },
     "execution_count": 12,
     "metadata": {},
     "output_type": "execute_result"
    }
   ],
   "source": [
    "import numpy as np\n",
    "import torch\n",
    "import pyvista\n",
    "import skshapes as sks\n",
    "\n",
    "points = np.random.rand(100, 3)\n",
    "\n",
    "points = np.concatenate([points, np.zeros((1, 3))], axis=0)\n",
    "points.shape\n",
    "\n",
    "pc = pyvista.PolyData(points, faces=[3, 0, 1, 2, 3, 1, 2, 3, 3, 0, 1, 2])\n",
    "\n",
    "print(pc.is_all_triangles)\n",
    "test = sks.PolyData(pc)\n",
    "\n",
    "test.triangles"
   ]
  },
  {
   "cell_type": "code",
   "execution_count": null,
   "metadata": {},
   "outputs": [
    {
     "ename": "AssertionError",
     "evalue": "",
     "output_type": "error",
     "traceback": [
      "\u001b[0;31m---------------------------------------------------------------------------\u001b[0m",
      "\u001b[0;31mAssertionError\u001b[0m                            Traceback (most recent call last)",
      "\u001b[1;32m/home/GitHub/scikit-shapes/example.ipynb Cell 24\u001b[0m in \u001b[0;36m<cell line: 27>\u001b[0;34m()\u001b[0m\n\u001b[1;32m     <a href='vscode-notebook-cell://ssh-remote%2Bkeops_full_container~localhost/home/GitHub/scikit-shapes/example.ipynb#X32sdnNjb2RlLXJlbW90ZQ%3D%3D?line=23'>24</a>\u001b[0m     \u001b[39massert\u001b[39;00m np\u001b[39m.\u001b[39mallclose(test\u001b[39m.\u001b[39mpoints\u001b[39m.\u001b[39mnumpy(), clean_mesh\u001b[39m.\u001b[39mpoints)\n\u001b[1;32m     <a href='vscode-notebook-cell://ssh-remote%2Bkeops_full_container~localhost/home/GitHub/scikit-shapes/example.ipynb#X32sdnNjb2RlLXJlbW90ZQ%3D%3D?line=24'>25</a>\u001b[0m     \u001b[39massert\u001b[39;00m \u001b[39mFalse\u001b[39;00m\n\u001b[0;32m---> <a href='vscode-notebook-cell://ssh-remote%2Bkeops_full_container~localhost/home/GitHub/scikit-shapes/example.ipynb#X32sdnNjb2RlLXJlbW90ZQ%3D%3D?line=26'>27</a>\u001b[0m test_mesh_cleaning()\n",
      "\u001b[1;32m/home/GitHub/scikit-shapes/example.ipynb Cell 24\u001b[0m in \u001b[0;36mtest_mesh_cleaning\u001b[0;34m()\u001b[0m\n\u001b[1;32m     <a href='vscode-notebook-cell://ssh-remote%2Bkeops_full_container~localhost/home/GitHub/scikit-shapes/example.ipynb#X32sdnNjb2RlLXJlbW90ZQ%3D%3D?line=22'>23</a>\u001b[0m test \u001b[39m=\u001b[39m sks\u001b[39m.\u001b[39mPolyData(mesh)\n\u001b[1;32m     <a href='vscode-notebook-cell://ssh-remote%2Bkeops_full_container~localhost/home/GitHub/scikit-shapes/example.ipynb#X32sdnNjb2RlLXJlbW90ZQ%3D%3D?line=23'>24</a>\u001b[0m \u001b[39massert\u001b[39;00m np\u001b[39m.\u001b[39mallclose(test\u001b[39m.\u001b[39mpoints\u001b[39m.\u001b[39mnumpy(), clean_mesh\u001b[39m.\u001b[39mpoints)\n\u001b[0;32m---> <a href='vscode-notebook-cell://ssh-remote%2Bkeops_full_container~localhost/home/GitHub/scikit-shapes/example.ipynb#X32sdnNjb2RlLXJlbW90ZQ%3D%3D?line=24'>25</a>\u001b[0m \u001b[39massert\u001b[39;00m \u001b[39mFalse\u001b[39;00m\n",
      "\u001b[0;31mAssertionError\u001b[0m: "
     ]
    }
   ],
   "source": [
    "import numpy as np\n",
    "import pyvista\n",
    "import skshapes as sks\n",
    "\n",
    "\n",
    "def test_mesh_cleaning():\n",
    "    # Example of a mesh with duplicated points\n",
    "    points = np.array(\n",
    "        [\n",
    "            [0, 0, 0],\n",
    "            [1, 0, 0],\n",
    "            [0, 1, 0],\n",
    "            [0, 0, 0],\n",
    "            [1, 0, 0],\n",
    "            [0, 0, 1],\n",
    "        ],\n",
    "        dtype=np.float64,\n",
    "    )\n",
    "\n",
    "    faces = np.array([3, 0, 1, 2, 3, 3, 4, 5])\n",
    "\n",
    "    mesh = pyvista.PolyData(points, faces=faces)\n",
    "    clean_mesh = mesh.clean()\n",
    "\n",
    "    test = sks.PolyData(mesh)\n",
    "\n",
    "    # Check that the mesh is cleaned when loaded by skshapes\n",
    "    assert not np.allclose(test.points.numpy(), mesh.points)\n",
    "    assert np.allclose(test.points.numpy(), clean_mesh.points)\n",
    "\n",
    "\n",
    "test_mesh_cleaning()"
   ]
  },
  {
   "cell_type": "code",
   "execution_count": null,
   "metadata": {},
   "outputs": [
    {
     "data": {
      "text/plain": [
       "tensor([[0, 0],\n",
       "        [3, 3],\n",
       "        [2, 1]])"
      ]
     },
     "execution_count": 40,
     "metadata": {},
     "output_type": "execute_result"
    }
   ],
   "source": [
    "torch.from_numpy(out[2][triangles])"
   ]
  },
  {
   "cell_type": "code",
   "execution_count": null,
   "metadata": {},
   "outputs": [
    {
     "data": {
      "text/plain": [
       "tensor([[0, 1, 0],\n",
       "        [1, 2, 1],\n",
       "        [2, 3, 2]])"
      ]
     },
     "execution_count": 9,
     "metadata": {},
     "output_type": "execute_result"
    }
   ],
   "source": [
    "test.clean().triangles"
   ]
  },
  {
   "cell_type": "code",
   "execution_count": null,
   "metadata": {},
   "outputs": [],
   "source": [
    "used_points = np.union1d(np.unique(test.triangles), np.unique(test.edges))"
   ]
  },
  {
   "cell_type": "code",
   "execution_count": null,
   "metadata": {},
   "outputs": [],
   "source": [
    "unused_points = np.setdiff1d(np.arange(test.n_points), used_points)"
   ]
  },
  {
   "cell_type": "code",
   "execution_count": null,
   "metadata": {},
   "outputs": [
    {
     "data": {
      "text/plain": [
       "array([ 4,  5,  6,  7,  8,  9, 10, 11, 12, 13, 14, 15, 16, 17, 18, 19, 20,\n",
       "       21, 22, 23, 24, 25, 26, 27, 28, 29, 30, 31, 32, 33, 34, 35, 36, 37,\n",
       "       38, 39, 40, 41, 42, 43, 44, 45, 46, 47, 48, 49, 50, 51, 52, 53, 54,\n",
       "       55, 56, 57, 58, 59, 60, 61, 62, 63, 64, 65, 66, 67, 68, 69, 70, 71,\n",
       "       72, 73, 74, 75, 76, 77, 78, 79, 80, 81, 82, 83, 84, 85, 86, 87, 88,\n",
       "       89, 90, 91, 92, 93, 94, 95, 96, 97, 98, 99])"
      ]
     },
     "execution_count": 18,
     "metadata": {},
     "output_type": "execute_result"
    }
   ],
   "source": [
    "unused_points"
   ]
  },
  {
   "cell_type": "code",
   "execution_count": null,
   "metadata": {},
   "outputs": [
    {
     "data": {
      "text/plain": [
       "tensor([[0.8820, 0.9923, 0.9347],\n",
       "        [0.9883, 0.9599, 0.1837],\n",
       "        [0.8019, 0.0709, 0.0756],\n",
       "        [0.4919, 0.0044, 0.1344]])"
      ]
     },
     "execution_count": 10,
     "metadata": {},
     "output_type": "execute_result"
    }
   ],
   "source": [
    "points_after"
   ]
  },
  {
   "cell_type": "code",
   "execution_count": null,
   "metadata": {},
   "outputs": [
    {
     "name": "stdout",
     "output_type": "stream",
     "text": [
      "Loss value at iteration 0 : 2.4044886231422424e-05\n",
      "Loss value at iteration 1 : 2.4044886231422424e-05\n",
      "Loss value at iteration 2 : 2.4044886231422424e-05\n",
      "Loss value at iteration 0 : 2.6265159249305725e-05\n",
      "Loss value at iteration 1 : 2.6265159249305725e-05\n",
      "Loss value at iteration 2 : 2.6265159249305725e-05\n",
      "Loss value at iteration 0 : 2.4044886231422424e-05\n",
      "Loss value at iteration 1 : 2.4044886231422424e-05\n",
      "Loss value at iteration 2 : 2.4044886231422424e-05\n",
      "Loss value at iteration 0 : 2.6265159249305725e-05\n",
      "Loss value at iteration 1 : 2.6265159249305725e-05\n",
      "Loss value at iteration 2 : 2.6265159249305725e-05\n"
     ]
    }
   ],
   "source": [
    "import skshapes as sks\n",
    "import pyvista.examples\n",
    "\n",
    "\n",
    "def test_registration_device():\n",
    "    \"\"\"This test ensure the behavior of the registration task with respect to the devices of the source, target and the gpu argument.\n",
    "    Expected behavior:\n",
    "        - If the gpu argument is True, the optimization should occurs on the gpu\n",
    "        - If the gpu argument is False, the optimization should occurs on the gpu\n",
    "        - The device of the output of .transform() and of .parameter_ should be the same as the device of the source and the target\n",
    "        - If source.device != target.device, an error should be raised\n",
    "    \"\"\"\n",
    "\n",
    "    shape1 = sks.PolyData(pyvista.Sphere())\n",
    "    shape2 = sks.PolyData(pyvista.Sphere()).decimate(0.5)\n",
    "\n",
    "    model = sks.RigidMotion()\n",
    "    loss = sks.OptimalTransportLoss()\n",
    "    optimizer = sks.LBFGS()\n",
    "\n",
    "    for device in [\"cpu\", \"cuda\"]:\n",
    "        for gpu in [False, True]:\n",
    "            source = shape1.to(device)\n",
    "            target = shape2.to(device)\n",
    "\n",
    "            task = sks.Registration(\n",
    "                model=model,\n",
    "                loss=loss,\n",
    "                optimizer=optimizer,\n",
    "                n_iter=3,\n",
    "                gpu=gpu,\n",
    "                regularization=10,\n",
    "                verbose=1,\n",
    "            )\n",
    "\n",
    "            newshape = task.fit_transform(source=source, target=target)\n",
    "\n",
    "            # Check that the device on which the optimization is performed corresponds to the gpu argument\n",
    "            if gpu:\n",
    "                assert task.internal_parameter_device_type == \"cuda\"\n",
    "            else:\n",
    "                assert task.internal_parameter_device_type == \"cpu\"\n",
    "\n",
    "            # Check that the device of the output is the same as the input's shapes\n",
    "            assert task.parameter_.device.type == source.device.type\n",
    "            assert newshape.device.type == target.device.type\n",
    "\n",
    "    # Check that if source and target are on different devices, an error is raised\n",
    "    source = shape1.to(\"cpu\")\n",
    "    target = shape2.to(\"cuda\")\n",
    "    try:\n",
    "        task.fit(source=source, target=target)\n",
    "    except:\n",
    "        pass\n",
    "    else:\n",
    "        raise AssertionError(\"Should have raised an error\")"
   ]
  },
  {
   "cell_type": "code",
   "execution_count": null,
   "metadata": {},
   "outputs": [
    {
     "data": {
      "text/plain": [
       "<skshapes.loss.optimal_transport.OptimalTransportLoss at 0x7f4fa0329d60>"
      ]
     },
     "execution_count": 11,
     "metadata": {},
     "output_type": "execute_result"
    }
   ],
   "source": [
    "list_of_losses = [\n",
    "    i\n",
    "    for i in sks.loss.__dict__.values()\n",
    "    if isinstance(i, type) and issubclass(i, sks.Loss)\n",
    "]\n",
    "a = list_of_losses[0]()"
   ]
  },
  {
   "cell_type": "code",
   "execution_count": null,
   "metadata": {},
   "outputs": [],
   "source": [
    "source = shape1.to(\"cpu\")\n",
    "target = shape2.to(\"cuda\")\n",
    "\n",
    "list_of_losses = [\n",
    "    i\n",
    "    for i in sks.loss.__dict__.values()\n",
    "    if isinstance(i, type) and issubclass(i, sks.Loss)\n",
    "]\n",
    "for loss in list_of_losses:\n",
    "    l = loss()\n",
    "    try:\n",
    "        l(source=source, target=target)\n",
    "    except:\n",
    "        pass\n",
    "    else:\n",
    "        raise AssertionError(\"Should have raised an error\")"
   ]
  },
  {
   "cell_type": "code",
   "execution_count": null,
   "metadata": {},
   "outputs": [],
   "source": [
    "import skshapes as sks\n",
    "\n",
    "mesh = sks.PolyData(\"data/SCAPE_low_resolution/mesh001.ply\")\n",
    "mesh.save(\"test.ply\")"
   ]
  },
  {
   "cell_type": "code",
   "execution_count": null,
   "metadata": {},
   "outputs": [
    {
     "data": {
      "text/plain": [
       "torch.Size([3, 250])"
      ]
     },
     "execution_count": 2,
     "metadata": {},
     "output_type": "execute_result"
    }
   ],
   "source": [
    "mesh.triangles.shape"
   ]
  },
  {
   "cell_type": "code",
   "execution_count": null,
   "metadata": {},
   "outputs": [
    {
     "name": "stdout",
     "output_type": "stream",
     "text": [
      "(1680, 3)\n"
     ]
    }
   ],
   "source": [
    "import pyvista\n",
    "import numpy as np\n",
    "import vedo\n",
    "\n",
    "sphere = pyvista.Sphere()\n",
    "mesh = vedo.Mesh(sphere)\n",
    "\n",
    "print(np.array(mesh.faces()).shape)"
   ]
  },
  {
   "cell_type": "code",
   "execution_count": null,
   "metadata": {},
   "outputs": [],
   "source": [
    "import skshapes as sks\n",
    "import pyvista\n",
    "import torch\n",
    "\n",
    "mesh = sks.PolyData(pyvista.Sphere())\n",
    "\n",
    "# Add some features\n",
    "mesh.features[\"hessians\"] = torch.rand(mesh.n_points, 3, 3)\n",
    "mesh.features[\"normals\"] = torch.rand(mesh.n_points, 3)\n",
    "mesh.features.append(torch.rand(mesh.n_points))\n",
    "\n",
    "try:\n",
    "    mesh.features.append(torch.rand(mesh.n_points + 1))\n",
    "except:\n",
    "    pass\n",
    "else:\n",
    "    raise AssertionError(\n",
    "        \"Should have raised an error, the size of the tensor is not correct\"\n",
    "    )\n",
    "\n",
    "# Check that the features are correctly copied\n",
    "copy = mesh.copy()\n",
    "assert torch.allclose(copy.features[\"hessians\"], mesh.features[\"hessians\"])\n",
    "copy.features[\"hessians\"] = torch.rand(\n",
    "    mesh.n_points, 3, 3\n",
    ")  # If the copy was not correct, this would also change the features of the original mesh\n",
    "assert not torch.allclose(copy.features[\"hessians\"], mesh.features[\"hessians\"])\n",
    "\n",
    "new_features = {\n",
    "    \"rotations\": torch.rand(mesh.n_points, 3, 3),\n",
    "    \"colors\": torch.rand(mesh.n_points, 3),\n",
    "}\n",
    "\n",
    "mesh.features = new_features  # Replace the features\n",
    "mesh.features.append(torch.rand(mesh.n_points, 2))  # Add a new feature\n",
    "assert list(mesh.features.keys()) == [\n",
    "    \"rotations\",\n",
    "    \"colors\",\n",
    "    \"feature_0\",\n",
    "]  # Check the name of the features\n",
    "\n",
    "# Check that trying to set the features with a wrong type raises an error\n",
    "try:\n",
    "    mesh.features = 4\n",
    "except:\n",
    "    pass\n",
    "else:\n",
    "    raise AssertionError(\"Should have raised an error, the features should be a dict\")\n",
    "\n",
    "# Check that trying to set the features with an invalid dict (here the size of the tensors is not correct) raises an error\n",
    "try:\n",
    "    mesh.features = {\n",
    "        \"colors\": torch.rand(mesh.n_points + 2, 3),\n",
    "        \"normals\": torch.rand(mesh.n_points, 3),\n",
    "    }\n",
    "except:\n",
    "    pass\n",
    "else:\n",
    "    raise AssertionError(\n",
    "        \"Should have raised an error, the size of the colors tensor is not correct\"\n",
    "    )"
   ]
  },
  {
   "cell_type": "code",
   "execution_count": null,
   "metadata": {},
   "outputs": [],
   "source": [
    "from typing import Union\n",
    "\n",
    "\n",
    "class Parent:\n",
    "    pass\n",
    "\n",
    "\n",
    "class Child1(Parent):\n",
    "    pass\n",
    "\n",
    "\n",
    "class Child2(Parent):\n",
    "    pass\n",
    "\n",
    "\n",
    "Children = Union[Child1, Child2]"
   ]
  },
  {
   "cell_type": "code",
   "execution_count": null,
   "metadata": {},
   "outputs": [],
   "source": [
    "# Class definitions\n",
    "from typing import Union\n",
    "\n",
    "\n",
    "class Parent:\n",
    "    pass\n",
    "\n",
    "\n",
    "class Child1(Parent):\n",
    "    pass\n",
    "\n",
    "\n",
    "class Child2(Parent):\n",
    "    pass\n",
    "\n",
    "\n",
    "Children = Union[Child1, Child2]\n",
    "\n",
    "\n",
    "#  Check that the Children type is correctly recognized\n",
    "def is_children(x):\n",
    "    for t in Children.__args__:\n",
    "        if isinstance(x, t):\n",
    "            return True\n",
    "\n",
    "    return False\n",
    "\n",
    "\n",
    "assert is_children(Child1())\n",
    "assert is_children(Child2())\n",
    "assert not is_children(Parent())\n",
    "\n",
    "# with typing module\n",
    "from typing import Union, get_origin, get_args\n",
    "\n",
    "assert get_origin(Children) == Union\n",
    "assert get_args(Children) == (Child1, Child2)\n",
    "\n",
    "assert issubclass(Child1, get_args(Children))"
   ]
  },
  {
   "cell_type": "code",
   "execution_count": null,
   "metadata": {},
   "outputs": [
    {
     "ename": "TypeError",
     "evalue": "metaclass conflict: the metaclass of a derived class must be a (non-strict) subclass of the metaclasses of all its bases",
     "output_type": "error",
     "traceback": [
      "\u001b[0;31m---------------------------------------------------------------------------\u001b[0m",
      "\u001b[0;31mTypeError\u001b[0m                                 Traceback (most recent call last)",
      "\u001b[1;32m/home/GitHub/scikit-shapes/example.ipynb Cell 40\u001b[0m in \u001b[0;36m<cell line: 1>\u001b[0;34m()\u001b[0m\n\u001b[0;32m----> <a href='vscode-notebook-cell://ssh-remote%2Bkeops_full_container~localhost/home/GitHub/scikit-shapes/example.ipynb#X54sdnNjb2RlLXJlbW90ZQ%3D%3D?line=0'>1</a>\u001b[0m \u001b[39mimport\u001b[39;00m \u001b[39mskshapes\u001b[39;00m \u001b[39mas\u001b[39;00m \u001b[39msks\u001b[39;00m\n",
      "File \u001b[0;32m~/GitHub/scikit-shapes/skshapes/__init__.py:3\u001b[0m, in \u001b[0;36m<module>\u001b[0;34m\u001b[0m\n\u001b[1;32m      1\u001b[0m \u001b[39mfrom\u001b[39;00m \u001b[39m.\u001b[39;00m\u001b[39mtypes\u001b[39;00m \u001b[39mimport\u001b[39;00m \u001b[39m*\u001b[39m\n\u001b[0;32m----> 3\u001b[0m \u001b[39mfrom\u001b[39;00m \u001b[39m.\u001b[39;00m\u001b[39mapplications\u001b[39;00m \u001b[39mimport\u001b[39;00m \u001b[39m*\u001b[39m\n\u001b[1;32m      4\u001b[0m \u001b[39mfrom\u001b[39;00m \u001b[39m.\u001b[39;00m\u001b[39mdata\u001b[39;00m \u001b[39mimport\u001b[39;00m \u001b[39m*\u001b[39m\n\u001b[1;32m      5\u001b[0m \u001b[39mfrom\u001b[39;00m \u001b[39m.\u001b[39;00m\u001b[39mfeatures\u001b[39;00m \u001b[39mimport\u001b[39;00m \u001b[39m*\u001b[39m\n",
      "File \u001b[0;32m~/GitHub/scikit-shapes/skshapes/applications/__init__.py:1\u001b[0m, in \u001b[0;36m<module>\u001b[0;34m\u001b[0m\n\u001b[0;32m----> 1\u001b[0m \u001b[39mfrom\u001b[39;00m \u001b[39m.\u001b[39;00m\u001b[39mlandmark_setter\u001b[39;00m \u001b[39mimport\u001b[39;00m LandmarkSetter\n",
      "File \u001b[0;32m~/GitHub/scikit-shapes/skshapes/applications/landmark_setter.py:6\u001b[0m, in \u001b[0;36m<module>\u001b[0;34m\u001b[0m\n\u001b[1;32m      3\u001b[0m \u001b[39mimport\u001b[39;00m \u001b[39mtorch\u001b[39;00m\n\u001b[1;32m      5\u001b[0m \u001b[39mfrom\u001b[39;00m \u001b[39m.\u001b[39;00m\u001b[39m.\u001b[39;00m\u001b[39mtypes\u001b[39;00m \u001b[39mimport\u001b[39;00m typecheck, List, float_dtype, int_dtype\n\u001b[0;32m----> 6\u001b[0m \u001b[39mfrom\u001b[39;00m \u001b[39m.\u001b[39;00m\u001b[39m.\u001b[39;00m\u001b[39mdata\u001b[39;00m \u001b[39mimport\u001b[39;00m PolyData\n\u001b[1;32m      9\u001b[0m \u001b[39mclass\u001b[39;00m \u001b[39mLandmarkSetter\u001b[39;00m(vedo\u001b[39m.\u001b[39mPlotter):\n\u001b[1;32m     10\u001b[0m \u001b[39m    \u001b[39m\u001b[39m\"\"\"A LandmarkSetter is a vedo application that allows the user to select landmarks on a set of meshes.\u001b[39;00m\n\u001b[1;32m     11\u001b[0m \n\u001b[1;32m     12\u001b[0m \u001b[39m    Args:\u001b[39;00m\n\u001b[1;32m     13\u001b[0m \u001b[39m        meshes (List[vedo.Mesh]): The meshes on which the landmarks are selected.\u001b[39;00m\n\u001b[1;32m     14\u001b[0m \u001b[39m        **kwargs: Keyword arguments passed to the vedo.Plotter constructor.\u001b[39;00m\n\u001b[1;32m     15\u001b[0m \u001b[39m    \"\"\"\u001b[39;00m\n",
      "File \u001b[0;32m~/GitHub/scikit-shapes/skshapes/data/__init__.py:1\u001b[0m, in \u001b[0;36m<module>\u001b[0;34m\u001b[0m\n\u001b[0;32m----> 1\u001b[0m \u001b[39mfrom\u001b[39;00m \u001b[39m.\u001b[39;00m\u001b[39mpolydata\u001b[39;00m \u001b[39mimport\u001b[39;00m PolyData\n\u001b[1;32m      2\u001b[0m \u001b[39mfrom\u001b[39;00m \u001b[39m.\u001b[39;00m\u001b[39mimage\u001b[39;00m \u001b[39mimport\u001b[39;00m Image\n\u001b[1;32m      3\u001b[0m \u001b[39mfrom\u001b[39;00m \u001b[39m.\u001b[39;00m\u001b[39mbaseshape\u001b[39;00m \u001b[39mimport\u001b[39;00m BaseShape\n",
      "File \u001b[0;32m~/GitHub/scikit-shapes/skshapes/data/polydata.py:33\u001b[0m, in \u001b[0;36m<module>\u001b[0;34m\u001b[0m\n\u001b[1;32m     28\u001b[0m \u001b[39mfrom\u001b[39;00m \u001b[39m.\u001b[39;00m\u001b[39mutils\u001b[39;00m \u001b[39mimport\u001b[39;00m Features\n\u001b[1;32m     30\u001b[0m \u001b[39mfrom\u001b[39;00m \u001b[39m.\u001b[39;00m\u001b[39m.\u001b[39;00m\u001b[39mtypes\u001b[39;00m \u001b[39mimport\u001b[39;00m Shape\n\u001b[0;32m---> 33\u001b[0m \u001b[39mclass\u001b[39;00m \u001b[39mPolyData\u001b[39;00m(BaseShape, Shape):\n\u001b[1;32m     34\u001b[0m \u001b[39m    \u001b[39m\u001b[39m\"\"\"A polygonal data object. It is composed of points, edges and triangles.\u001b[39;00m\n\u001b[1;32m     35\u001b[0m \n\u001b[1;32m     36\u001b[0m \n\u001b[0;32m   (...)\u001b[0m\n\u001b[1;32m     42\u001b[0m \u001b[39m    For all these cases, it is possible to provide landmarks as a sparse tensor and device as a string or a torch device (\"cpu\" by default)\u001b[39;00m\n\u001b[1;32m     43\u001b[0m \u001b[39m    \"\"\"\u001b[39;00m\n\u001b[1;32m     45\u001b[0m     \u001b[39m@typecheck\u001b[39m\n\u001b[1;32m     46\u001b[0m     \u001b[39mdef\u001b[39;00m \u001b[39m__init__\u001b[39m(\n\u001b[1;32m     47\u001b[0m         \u001b[39mself\u001b[39m,\n\u001b[0;32m   (...)\u001b[0m\n\u001b[1;32m     54\u001b[0m         features: Optional[Features] \u001b[39m=\u001b[39m \u001b[39mNone\u001b[39;00m,\n\u001b[1;32m     55\u001b[0m     ) \u001b[39m-\u001b[39m\u001b[39m>\u001b[39m \u001b[39mNone\u001b[39;00m:\n",
      "\u001b[0;31mTypeError\u001b[0m: metaclass conflict: the metaclass of a derived class must be a (non-strict) subclass of the metaclasses of all its bases"
     ]
    }
   ],
   "source": [
    "import skshapes as sks"
   ]
  },
  {
   "cell_type": "code",
   "execution_count": null,
   "metadata": {},
   "outputs": [
    {
     "ename": "TypeError",
     "evalue": "metaclass conflict: the metaclass of a derived class must be a (non-strict) subclass of the metaclasses of all its bases",
     "output_type": "error",
     "traceback": [
      "\u001b[0;31m---------------------------------------------------------------------------\u001b[0m",
      "\u001b[0;31mTypeError\u001b[0m                                 Traceback (most recent call last)",
      "\u001b[1;32m/home/GitHub/scikit-shapes/example.ipynb Cell 41\u001b[0m in \u001b[0;36m<cell line: 1>\u001b[0;34m()\u001b[0m\n\u001b[0;32m----> <a href='vscode-notebook-cell://ssh-remote%2Bkeops_full_container~localhost/home/GitHub/scikit-shapes/example.ipynb#X55sdnNjb2RlLXJlbW90ZQ%3D%3D?line=0'>1</a>\u001b[0m \u001b[39mfrom\u001b[39;00m \u001b[39mskshapes\u001b[39;00m\u001b[39m.\u001b[39;00m\u001b[39mdata\u001b[39;00m \u001b[39mimport\u001b[39;00m PolyData\n",
      "File \u001b[0;32m~/GitHub/scikit-shapes/skshapes/__init__.py:3\u001b[0m, in \u001b[0;36m<module>\u001b[0;34m\u001b[0m\n\u001b[1;32m      1\u001b[0m \u001b[39mfrom\u001b[39;00m \u001b[39m.\u001b[39;00m\u001b[39mtypes\u001b[39;00m \u001b[39mimport\u001b[39;00m \u001b[39m*\u001b[39m\n\u001b[0;32m----> 3\u001b[0m \u001b[39mfrom\u001b[39;00m \u001b[39m.\u001b[39;00m\u001b[39mapplications\u001b[39;00m \u001b[39mimport\u001b[39;00m \u001b[39m*\u001b[39m\n\u001b[1;32m      4\u001b[0m \u001b[39mfrom\u001b[39;00m \u001b[39m.\u001b[39;00m\u001b[39mdata\u001b[39;00m \u001b[39mimport\u001b[39;00m \u001b[39m*\u001b[39m\n\u001b[1;32m      5\u001b[0m \u001b[39mfrom\u001b[39;00m \u001b[39m.\u001b[39;00m\u001b[39mfeatures\u001b[39;00m \u001b[39mimport\u001b[39;00m \u001b[39m*\u001b[39m\n",
      "File \u001b[0;32m~/GitHub/scikit-shapes/skshapes/applications/__init__.py:1\u001b[0m, in \u001b[0;36m<module>\u001b[0;34m\u001b[0m\n\u001b[0;32m----> 1\u001b[0m \u001b[39mfrom\u001b[39;00m \u001b[39m.\u001b[39;00m\u001b[39mlandmark_setter\u001b[39;00m \u001b[39mimport\u001b[39;00m LandmarkSetter\n",
      "File \u001b[0;32m~/GitHub/scikit-shapes/skshapes/applications/landmark_setter.py:6\u001b[0m, in \u001b[0;36m<module>\u001b[0;34m\u001b[0m\n\u001b[1;32m      3\u001b[0m \u001b[39mimport\u001b[39;00m \u001b[39mtorch\u001b[39;00m\n\u001b[1;32m      5\u001b[0m \u001b[39mfrom\u001b[39;00m \u001b[39m.\u001b[39;00m\u001b[39m.\u001b[39;00m\u001b[39mtypes\u001b[39;00m \u001b[39mimport\u001b[39;00m typecheck, List, float_dtype, int_dtype\n\u001b[0;32m----> 6\u001b[0m \u001b[39mfrom\u001b[39;00m \u001b[39m.\u001b[39;00m\u001b[39m.\u001b[39;00m\u001b[39mdata\u001b[39;00m \u001b[39mimport\u001b[39;00m PolyData\n\u001b[1;32m      9\u001b[0m \u001b[39mclass\u001b[39;00m \u001b[39mLandmarkSetter\u001b[39;00m(vedo\u001b[39m.\u001b[39mPlotter):\n\u001b[1;32m     10\u001b[0m \u001b[39m    \u001b[39m\u001b[39m\"\"\"A LandmarkSetter is a vedo application that allows the user to select landmarks on a set of meshes.\u001b[39;00m\n\u001b[1;32m     11\u001b[0m \n\u001b[1;32m     12\u001b[0m \u001b[39m    Args:\u001b[39;00m\n\u001b[1;32m     13\u001b[0m \u001b[39m        meshes (List[vedo.Mesh]): The meshes on which the landmarks are selected.\u001b[39;00m\n\u001b[1;32m     14\u001b[0m \u001b[39m        **kwargs: Keyword arguments passed to the vedo.Plotter constructor.\u001b[39;00m\n\u001b[1;32m     15\u001b[0m \u001b[39m    \"\"\"\u001b[39;00m\n",
      "File \u001b[0;32m~/GitHub/scikit-shapes/skshapes/data/__init__.py:1\u001b[0m, in \u001b[0;36m<module>\u001b[0;34m\u001b[0m\n\u001b[0;32m----> 1\u001b[0m \u001b[39mfrom\u001b[39;00m \u001b[39m.\u001b[39;00m\u001b[39mpolydata\u001b[39;00m \u001b[39mimport\u001b[39;00m PolyData\n\u001b[1;32m      2\u001b[0m \u001b[39mfrom\u001b[39;00m \u001b[39m.\u001b[39;00m\u001b[39mimage\u001b[39;00m \u001b[39mimport\u001b[39;00m Image\n\u001b[1;32m      3\u001b[0m \u001b[39mfrom\u001b[39;00m \u001b[39m.\u001b[39;00m\u001b[39mbaseshape\u001b[39;00m \u001b[39mimport\u001b[39;00m BaseShape\n",
      "File \u001b[0;32m~/GitHub/scikit-shapes/skshapes/data/polydata.py:33\u001b[0m, in \u001b[0;36m<module>\u001b[0;34m\u001b[0m\n\u001b[1;32m     28\u001b[0m \u001b[39mfrom\u001b[39;00m \u001b[39m.\u001b[39;00m\u001b[39mutils\u001b[39;00m \u001b[39mimport\u001b[39;00m Features\n\u001b[1;32m     30\u001b[0m \u001b[39mfrom\u001b[39;00m \u001b[39m.\u001b[39;00m\u001b[39m.\u001b[39;00m\u001b[39mtypes\u001b[39;00m \u001b[39mimport\u001b[39;00m Shape\n\u001b[0;32m---> 33\u001b[0m \u001b[39mclass\u001b[39;00m \u001b[39mPolyData\u001b[39;00m(BaseShape, Shape):\n\u001b[1;32m     34\u001b[0m \u001b[39m    \u001b[39m\u001b[39m\"\"\"A polygonal data object. It is composed of points, edges and triangles.\u001b[39;00m\n\u001b[1;32m     35\u001b[0m \n\u001b[1;32m     36\u001b[0m \n\u001b[0;32m   (...)\u001b[0m\n\u001b[1;32m     42\u001b[0m \u001b[39m    For all these cases, it is possible to provide landmarks as a sparse tensor and device as a string or a torch device (\"cpu\" by default)\u001b[39;00m\n\u001b[1;32m     43\u001b[0m \u001b[39m    \"\"\"\u001b[39;00m\n\u001b[1;32m     45\u001b[0m     \u001b[39m@typecheck\u001b[39m\n\u001b[1;32m     46\u001b[0m     \u001b[39mdef\u001b[39;00m \u001b[39m__init__\u001b[39m(\n\u001b[1;32m     47\u001b[0m         \u001b[39mself\u001b[39m,\n\u001b[0;32m   (...)\u001b[0m\n\u001b[1;32m     54\u001b[0m         features: Optional[Features] \u001b[39m=\u001b[39m \u001b[39mNone\u001b[39;00m,\n\u001b[1;32m     55\u001b[0m     ) \u001b[39m-\u001b[39m\u001b[39m>\u001b[39m \u001b[39mNone\u001b[39;00m:\n",
      "\u001b[0;31mTypeError\u001b[0m: metaclass conflict: the metaclass of a derived class must be a (non-strict) subclass of the metaclasses of all its bases"
     ]
    }
   ],
   "source": [
    "from skshapes.data import PolyData"
   ]
  },
  {
   "cell_type": "code",
   "execution_count": null,
   "metadata": {},
   "outputs": [
    {
     "data": {
      "text/plain": [
       "{'rotations': tensor([[[0.1382, 0.6877, 0.0877],\n",
       "          [0.3598, 0.1917, 0.9832],\n",
       "          [0.5377, 0.2768, 0.2052]],\n",
       " \n",
       "         [[0.4335, 0.5695, 0.8686],\n",
       "          [0.6195, 0.7661, 0.6209],\n",
       "          [0.3672, 0.2665, 0.3426]],\n",
       " \n",
       "         [[0.0662, 0.7519, 0.9919],\n",
       "          [0.0575, 0.8456, 0.3819],\n",
       "          [0.3575, 0.9073, 0.9821]],\n",
       " \n",
       "         ...,\n",
       " \n",
       "         [[0.9383, 0.6264, 0.2610],\n",
       "          [0.5657, 0.7263, 0.9791],\n",
       "          [0.3420, 0.3991, 0.2845]],\n",
       " \n",
       "         [[0.8103, 0.4226, 0.0378],\n",
       "          [0.5031, 0.2878, 0.9026],\n",
       "          [0.4386, 0.5266, 0.2401]],\n",
       " \n",
       "         [[0.0521, 0.8461, 0.4244],\n",
       "          [0.3968, 0.3237, 0.3137],\n",
       "          [0.6647, 0.7788, 0.4711]]]),\n",
       " 'colors': tensor([[0.0365, 0.0883, 0.2438],\n",
       "         [0.7887, 0.7964, 0.7347],\n",
       "         [0.1982, 0.2530, 0.3973],\n",
       "         ...,\n",
       "         [0.8254, 0.6396, 0.4923],\n",
       "         [0.2697, 0.3118, 0.3065],\n",
       "         [0.6510, 0.7550, 0.9164]])}"
      ]
     },
     "execution_count": 3,
     "metadata": {},
     "output_type": "execute_result"
    }
   ],
   "source": [
    "new_features"
   ]
  },
  {
   "cell_type": "code",
   "execution_count": null,
   "metadata": {},
   "outputs": [
    {
     "name": "stdout",
     "output_type": "stream",
     "text": [
      "0\n"
     ]
    },
    {
     "data": {
      "text/plain": [
       "{'blabla': 2, 'bloblo': 3}"
      ]
     },
     "execution_count": 53,
     "metadata": {},
     "output_type": "execute_result"
    }
   ],
   "source": [
    "from datetime import date\n",
    "\n",
    "\n",
    "class test_features:\n",
    "    def __init__(self):\n",
    "        self.features = dict()\n",
    "\n",
    "    @property\n",
    "    def features(self):\n",
    "        return self._features\n",
    "\n",
    "    @features.setter\n",
    "    def features(self, value):\n",
    "        self._features = value\n",
    "        print(len(self._features))\n",
    "\n",
    "    def __getitem__(self, key):\n",
    "        if key not in self.traits.keys():\n",
    "            raise KeyError\n",
    "        ...\n",
    "        return traits[key]\n",
    "\n",
    "    def __setitem__(self, key, value):\n",
    "        if key not in self.traits.keys():\n",
    "            raise KeyError\n",
    "        ...\n",
    "        traits[key] = value\n",
    "\n",
    "\n",
    "A = test_features()\n",
    "\n",
    "A.features[\"blabla\"] = 2\n",
    "A.features[\"bloblo\"] = 3\n",
    "\n",
    "A.features"
   ]
  },
  {
   "cell_type": "code",
   "execution_count": null,
   "metadata": {},
   "outputs": [
    {
     "data": {
      "text/plain": [
       "{'mean_curvature': tensor([[0.4318, 0.7755, 0.0413],\n",
       "         [0.7111, 0.8350, 0.8027],\n",
       "         [0.4680, 0.7629, 0.4850],\n",
       "         [0.6768, 0.3552, 0.1954],\n",
       "         [0.2301, 0.4838, 0.3052],\n",
       "         [0.4231, 0.3271, 0.9802],\n",
       "         [0.2544, 0.4447, 0.3851],\n",
       "         [0.7243, 0.7245, 0.8828],\n",
       "         [0.9862, 0.9709, 0.7198],\n",
       "         [0.4281, 0.2324, 0.5898]]),\n",
       " 'hessians': tensor([[[0.2523, 0.3315, 0.1120],\n",
       "          [0.3755, 0.8269, 0.0241],\n",
       "          [0.8761, 0.2696, 0.1949]],\n",
       " \n",
       "         [[0.1413, 0.1270, 0.8461],\n",
       "          [0.3032, 0.1933, 0.1752],\n",
       "          [0.5553, 0.3616, 0.1193]],\n",
       " \n",
       "         [[0.7530, 0.2402, 0.0795],\n",
       "          [0.8641, 0.5588, 0.4665],\n",
       "          [0.9988, 0.5972, 0.5083]],\n",
       " \n",
       "         [[0.7232, 0.7705, 0.4921],\n",
       "          [0.7764, 0.6138, 0.0954],\n",
       "          [0.1511, 0.5782, 0.0902]],\n",
       " \n",
       "         [[0.0174, 0.5757, 0.5882],\n",
       "          [0.3967, 0.9871, 0.3516],\n",
       "          [0.5024, 0.2297, 0.3222]],\n",
       " \n",
       "         [[0.0084, 0.1179, 0.8675],\n",
       "          [0.5481, 0.4982, 0.6385],\n",
       "          [0.6171, 0.3015, 0.0696]],\n",
       " \n",
       "         [[0.2228, 0.3285, 0.5934],\n",
       "          [0.1898, 0.0023, 0.3442],\n",
       "          [0.9305, 0.2155, 0.6513]],\n",
       " \n",
       "         [[0.9165, 0.5916, 0.1531],\n",
       "          [0.4346, 0.1655, 0.1762],\n",
       "          [0.0098, 0.2804, 0.8017]],\n",
       " \n",
       "         [[0.0464, 0.0867, 0.5203],\n",
       "          [0.6030, 0.9795, 0.3503],\n",
       "          [0.1182, 0.3460, 0.4883]],\n",
       " \n",
       "         [[0.3387, 0.1408, 0.4807],\n",
       "          [0.9735, 0.8086, 0.6400],\n",
       "          [0.6912, 0.3328, 0.0623]]]),\n",
       " 'colors': tensor([[4.7316e-01, 5.3187e-01, 1.4675e-04],\n",
       "         [1.7324e-01, 8.4604e-01, 7.1649e-01],\n",
       "         [1.9058e-01, 6.2902e-01, 8.1775e-01],\n",
       "         [2.0992e-01, 4.2326e-02, 1.8094e-01],\n",
       "         [3.4420e-01, 6.1643e-01, 8.7907e-01],\n",
       "         [8.7196e-01, 8.6392e-01, 2.0993e-01],\n",
       "         [7.7261e-01, 6.6982e-01, 7.1346e-01],\n",
       "         [8.8589e-01, 7.9795e-01, 1.6579e-01],\n",
       "         [6.1201e-02, 6.9289e-01, 1.3202e-01],\n",
       "         [6.2603e-02, 9.2546e-01, 3.1784e-01]]),\n",
       " 'feature_0': tensor([0.2570, 0.9951, 0.2061, 0.9195, 0.2967, 0.2567, 0.0863, 0.6681, 0.5657,\n",
       "         0.9107])}"
      ]
     },
     "execution_count": 83,
     "metadata": {},
     "output_type": "execute_result"
    }
   ],
   "source": [
    "import torch\n",
    "\n",
    "\n",
    "class Features(dict):\n",
    "    \"\"\"This class is a dictionary that contains features associated to a set (e.g. a set of points, a set of triangles, etc.)\n",
    "    When a feature is added to the dictionary, it is checked that the number of elements of the feature is the same as the number of elements of the set and\n",
    "    it is passed to the device of the set.\n",
    "\n",
    "    There are two ways to add a feature to the dictionary:\n",
    "        - By using the __setitem__ method (e.g. A[\"feature\"] = feature)\n",
    "        - By using the append method (e.g. A.append(feature)) which will automatically name the feature \"feature_{i}\" where i is the minimum integer such that \"feature_{i}\" is not already in the dictionary\n",
    "\n",
    "    Args:\n",
    "        n (int): The number of elements of the set\n",
    "        device (torch.device): The device on which the features should be stored\n",
    "    \"\"\"\n",
    "\n",
    "    def __init__(self, n, device):\n",
    "        self.n = n\n",
    "        self.device = device\n",
    "\n",
    "    def __getitem__(self, key):\n",
    "        return dict.__getitem__(self, key)\n",
    "\n",
    "    def _check_value(self, value):\n",
    "        assert isinstance(value, torch.Tensor)\n",
    "        assert (\n",
    "            value.shape[0] == self.n\n",
    "        ), f\"Last dimension of the tensor should be {self.n}\"\n",
    "\n",
    "        if value.device != self.device:\n",
    "            value = value.to(self.device)\n",
    "\n",
    "        return value\n",
    "\n",
    "    def __setitem__(self, key, value):\n",
    "        # assert that the\n",
    "        value = self._check_value(value)\n",
    "        dict.__setitem__(self, key, value)\n",
    "\n",
    "    def append(self, value):\n",
    "        value = self._check_value(value)\n",
    "        i = 0\n",
    "        while f\"feature_{i}\" in self.keys():\n",
    "            i += 1\n",
    "\n",
    "        dict.__setitem__(self, f\"feature_{i}\", value)\n",
    "\n",
    "\n",
    "n = 10\n",
    "\n",
    "features = Features(n=n, device=\"cpu\")\n",
    "\n",
    "features[\"mean_curvature\"] = torch.rand(n, 3)\n",
    "features[\"hessians\"] = torch.rand(n, 3, 3)\n",
    "features[\"colors\"] = torch.rand(n, 3)\n",
    "\n",
    "features.append(torch.rand(n))\n",
    "\n",
    "features"
   ]
  },
  {
   "cell_type": "code",
   "execution_count": null,
   "metadata": {},
   "outputs": [
    {
     "data": {
      "text/plain": [
       "tensor(0.)"
      ]
     },
     "execution_count": 3,
     "metadata": {},
     "output_type": "execute_result"
    }
   ],
   "source": [
    "from skshapes.loss.baseloss import SumLoss, ProductLoss\n",
    "\n",
    "import skshapes as sks\n",
    "import pyvista\n",
    "\n",
    "shape1 = sks.PolyData(pyvista.Sphere())\n",
    "shape2 = sks.PolyData(pyvista.Sphere()).decimate(0.5)\n",
    "\n",
    "l = ProductLoss()\n",
    "l(source=shape1, target=shape2)"
   ]
  },
  {
   "cell_type": "code",
   "execution_count": null,
   "metadata": {},
   "outputs": [
    {
     "data": {
      "text/plain": [
       "device(type='cuda', index=0)"
      ]
     },
     "execution_count": 72,
     "metadata": {},
     "output_type": "execute_result"
    }
   ],
   "source": [
    "test[\"blabla\"].device"
   ]
  },
  {
   "cell_type": "code",
   "execution_count": null,
   "metadata": {},
   "outputs": [
    {
     "name": "stdout",
     "output_type": "stream",
     "text": [
      "[[-0.05405951  0.          0.00293103]\n",
      " [-0.05287818  0.0112396  -0.997069  ]\n",
      " [ 0.05405951  0.         -0.00293103]\n",
      " ...\n",
      " [-0.04919475 -0.01045667 -0.02003887]\n",
      " [-0.0510256  -0.01084583 -0.01448369]\n",
      " [-0.05225823 -0.01110783 -0.00875869]]\n"
     ]
    },
    {
     "data": {
      "text/plain": [
       "pyvista_ndarray([[0., 0., 0.],\n",
       "                 [0., 0., 0.],\n",
       "                 [0., 0., 0.],\n",
       "                 ...,\n",
       "                 [0., 0., 0.],\n",
       "                 [0., 0., 0.],\n",
       "                 [0., 0., 0.]], dtype=float32)"
      ]
     },
     "execution_count": 40,
     "metadata": {},
     "output_type": "execute_result"
    }
   ],
   "source": [
    "mesh = pyvista.Sphere()\n",
    "\n",
    "clean_mesh = mesh.clean()\n",
    "\n",
    "print(clean_mesh.points - mesh.points)\n",
    "\n",
    "# lexicographic order of clean_mesh.points\n",
    "\n",
    "import numpy as np\n",
    "\n",
    "clean_ordering = np.lexsort(\n",
    "    (clean_mesh.points[:, 2], clean_mesh.points[:, 1], clean_mesh.points[:, 0])\n",
    ")\n",
    "ordering = np.lexsort((mesh.points[:, 2], mesh.points[:, 1], mesh.points[:, 0]))\n",
    "\n",
    "clean_mesh.points[clean_ordering] - mesh.points[ordering]"
   ]
  },
  {
   "cell_type": "code",
   "execution_count": null,
   "metadata": {},
   "outputs": [
    {
     "data": {
      "text/plain": [
       "tensor([[0.8820, 0.9923, 0.9347],\n",
       "        [0.9883, 0.9599, 0.1837],\n",
       "        [0.8019, 0.0709, 0.0756],\n",
       "        [0.4919, 0.0044, 0.1344]])"
      ]
     },
     "execution_count": 28,
     "metadata": {},
     "output_type": "execute_result"
    }
   ],
   "source": [
    "points_after"
   ]
  },
  {
   "cell_type": "code",
   "execution_count": null,
   "metadata": {},
   "outputs": [
    {
     "data": {
      "text/plain": [
       "tensor([[0.8820, 0.9923, 0.9347],\n",
       "        [0.9883, 0.9599, 0.1837],\n",
       "        [0.8019, 0.0709, 0.0756],\n",
       "        [0.4919, 0.0044, 0.1344],\n",
       "        [0.8820, 0.9923, 0.9347],\n",
       "        [0.9883, 0.9599, 0.1837],\n",
       "        [0.8019, 0.0709, 0.0756],\n",
       "        [0.4919, 0.0044, 0.1344],\n",
       "        [0.7408, 0.7317, 0.6218],\n",
       "        [0.7064, 0.8309, 0.5818],\n",
       "        [0.8745, 0.8094, 0.6827],\n",
       "        [0.3330, 0.8633, 0.5180],\n",
       "        [0.7064, 0.0074, 0.7339],\n",
       "        [0.1681, 0.4848, 0.3365],\n",
       "        [0.7491, 0.0339, 0.0977],\n",
       "        [0.7483, 0.9572, 0.5311],\n",
       "        [0.2669, 0.8152, 0.5799],\n",
       "        [0.2364, 0.0813, 0.7774],\n",
       "        [0.9923, 0.5683, 0.6883],\n",
       "        [0.1734, 0.4447, 0.6303],\n",
       "        [0.3287, 0.5583, 0.7417],\n",
       "        [0.7039, 0.2750, 0.4415],\n",
       "        [0.7741, 0.9224, 0.1883],\n",
       "        [0.4523, 0.9112, 0.2507],\n",
       "        [0.7684, 0.1591, 0.7342],\n",
       "        [0.0216, 0.7546, 0.1045],\n",
       "        [0.8616, 0.5509, 0.9817],\n",
       "        [0.1958, 0.6058, 0.7404],\n",
       "        [0.1663, 0.8967, 0.6868],\n",
       "        [0.9032, 0.8304, 0.9776],\n",
       "        [0.1612, 0.7075, 0.3830],\n",
       "        [0.8948, 0.6933, 0.7145],\n",
       "        [0.6811, 0.9436, 0.5208],\n",
       "        [0.7449, 0.2171, 0.4481],\n",
       "        [0.7367, 0.4852, 0.2655],\n",
       "        [0.9812, 0.4599, 0.9452],\n",
       "        [0.4830, 0.0775, 0.7765],\n",
       "        [0.8118, 0.1339, 0.9536],\n",
       "        [0.4330, 0.4273, 0.0232],\n",
       "        [0.2625, 0.4461, 0.8554],\n",
       "        [0.1727, 0.7515, 0.3565],\n",
       "        [0.0205, 0.0583, 0.8586],\n",
       "        [0.6530, 0.4875, 0.3553],\n",
       "        [0.1803, 0.3177, 0.7211],\n",
       "        [0.2712, 0.1871, 0.6076],\n",
       "        [0.3479, 0.2874, 0.5916],\n",
       "        [0.2192, 0.1140, 0.8691],\n",
       "        [0.1855, 0.7389, 0.6077],\n",
       "        [0.2952, 0.3446, 0.4453],\n",
       "        [0.4324, 0.5232, 0.8968],\n",
       "        [0.6943, 0.2136, 0.4529],\n",
       "        [0.3586, 0.4227, 0.6185],\n",
       "        [0.3673, 0.4254, 0.2869],\n",
       "        [0.5392, 0.2531, 0.8105],\n",
       "        [0.2322, 0.4743, 0.6589],\n",
       "        [0.8700, 0.8569, 0.8754],\n",
       "        [0.8289, 0.0886, 0.7208],\n",
       "        [0.2934, 0.9875, 0.4419],\n",
       "        [0.1838, 0.1343, 0.1163],\n",
       "        [0.7609, 0.4382, 0.1639],\n",
       "        [0.2148, 0.0287, 0.2420],\n",
       "        [0.9848, 0.2360, 0.9380],\n",
       "        [0.9373, 0.7910, 0.0737],\n",
       "        [0.7626, 0.9975, 0.0915],\n",
       "        [0.4470, 0.6763, 0.8372],\n",
       "        [0.8668, 0.3413, 0.8943],\n",
       "        [0.1632, 0.7292, 0.6153],\n",
       "        [0.9082, 0.0364, 0.5042],\n",
       "        [0.1451, 0.2530, 0.8733],\n",
       "        [0.5296, 0.6734, 0.5319],\n",
       "        [0.3131, 0.3022, 0.0353],\n",
       "        [0.8742, 0.1292, 0.5383],\n",
       "        [0.4730, 0.3010, 0.5059],\n",
       "        [0.0973, 0.6152, 0.1992],\n",
       "        [0.7309, 0.5075, 0.1136],\n",
       "        [0.3909, 0.6613, 0.6864],\n",
       "        [0.9403, 0.4030, 0.7400],\n",
       "        [0.6180, 0.2991, 0.1389],\n",
       "        [0.1809, 0.6864, 0.9785],\n",
       "        [0.9497, 0.6249, 0.2520],\n",
       "        [0.1812, 0.3088, 0.5184],\n",
       "        [0.2620, 0.6964, 0.8916],\n",
       "        [0.6349, 0.3156, 0.4355],\n",
       "        [0.5268, 0.7642, 0.8583],\n",
       "        [0.1361, 0.5247, 0.8639],\n",
       "        [0.2109, 0.4577, 0.4363],\n",
       "        [0.1192, 0.8041, 0.1178],\n",
       "        [0.6832, 0.2377, 0.9189],\n",
       "        [0.3547, 0.4612, 0.5549],\n",
       "        [0.1965, 0.1532, 0.2282],\n",
       "        [0.8148, 0.1086, 0.8056],\n",
       "        [0.5848, 0.8963, 0.3698],\n",
       "        [0.5743, 0.4713, 0.6661],\n",
       "        [0.4851, 0.3992, 0.1488],\n",
       "        [0.9357, 0.1798, 0.7027],\n",
       "        [0.8250, 0.0307, 0.2429],\n",
       "        [0.7761, 0.5862, 0.9491],\n",
       "        [0.9598, 0.3042, 0.7306],\n",
       "        [0.6233, 0.9280, 0.9855],\n",
       "        [0.1492, 0.9190, 0.9807],\n",
       "        [0.5068, 0.0467, 0.1985],\n",
       "        [0.9829, 0.7325, 0.8265],\n",
       "        [0.9020, 0.5061, 0.8398],\n",
       "        [0.4661, 0.6729, 0.5555]], dtype=torch.float64)"
      ]
     },
     "execution_count": 32,
     "metadata": {},
     "output_type": "execute_result"
    }
   ],
   "source": [
    "concat"
   ]
  },
  {
   "cell_type": "code",
   "execution_count": null,
   "metadata": {},
   "outputs": [],
   "source": [
    "import skshapes as sks\n",
    "import vedo\n",
    "import pyvista\n",
    "import numpy as np\n",
    "import torch\n",
    "\n",
    "\n",
    "def test_point_data():\n",
    "    # Load a pyvista.PolyData and add an attribute\n",
    "    pv_mesh = pyvista.Sphere()\n",
    "    pv_mesh.point_data[\"curvature\"] = np.random.rand(pv_mesh.n_points, 3)\n",
    "\n",
    "    # Convert it to a skshapes.PolyData\n",
    "    sks_mesh = sks.PolyData(pv_mesh)\n",
    "\n",
    "    # Assert that the attribute curvature is correctly copied\n",
    "    dtype = sks_mesh.point_data[\"curvature\"].dtype\n",
    "    assert torch.allclose(\n",
    "        sks_mesh.point_data[\"curvature\"],\n",
    "        torch.from_numpy(pv_mesh.point_data[\"curvature\"]).to(dtype),\n",
    "    )\n",
    "\n",
    "    # Assert that both device attributes for the mesh and the point_data are cpu\n",
    "    assert sks_mesh.device.type == \"cpu\"\n",
    "    assert sks_mesh.point_data.device.type == \"cpu\"\n",
    "\n",
    "    # Move the mesh to cuda\n",
    "    sks_mesh_cuda = sks_mesh.to(\"cuda\")\n",
    "\n",
    "    # Assert that both device attributes for the mesh and the point_data are cuda\n",
    "    assert sks_mesh_cuda.device.type == \"cuda\"\n",
    "    assert sks_mesh_cuda.point_data.device.type == \"cuda\"\n",
    "\n",
    "    # If you assign a new point_data to the mesh, it is automatically moved to the same device as the mesh\n",
    "    sks_mesh_cuda.point_data[\"color\"] = torch.rand(sks_mesh_cuda.n_points, 3).cpu()\n",
    "    # It is also possible to assign a numpy array, it will be automatically converted to a torch.Tensor\n",
    "    sks_mesh_cuda.point_data[\"normals\"] = np.random.rand(sks_mesh_cuda.n_points, 3)\n",
    "\n",
    "    assert sks_mesh_cuda.point_data[\"color\"].device.type == \"cuda\"\n",
    "    assert sks_mesh_cuda.point_data[\"normals\"].device.type == \"cuda\"\n",
    "\n",
    "    back_to_pyvista = sks_mesh_cuda.to_pyvista()\n",
    "\n",
    "    # Assert that the point_data attributes are correctly copied\n",
    "    assert \"color\" in back_to_pyvista.point_data.keys()\n",
    "    assert np.allclose(\n",
    "        back_to_pyvista.point_data[\"normals\"],\n",
    "        sks_mesh_cuda.point_data[\"normals\"].cpu().numpy(),\n",
    "    )\n",
    "\n",
    "    back_to_vedo = sks_mesh_cuda.to_vedo()\n",
    "    assert np.allclose(\n",
    "        back_to_vedo.pointdata[\"curvature\"], sks_mesh.point_data[\"curvature\"].numpy()\n",
    "    )\n",
    "\n",
    "    # From vedo to sks\n",
    "    sks_again = sks.PolyData(back_to_vedo)\n",
    "    assert np.allclose(\n",
    "        sks_again.point_data[\"curvature\"].numpy(), pv_mesh.point_data[\"curvature\"]\n",
    "    )\n",
    "\n",
    "\n",
    "test_point_data()"
   ]
  },
  {
   "cell_type": "code",
   "execution_count": null,
   "metadata": {},
   "outputs": [
    {
     "name": "stdout",
     "output_type": "stream",
     "text": [
      "[KeOps] Generating code for formula Sum_Reduction(TensorProd(Exp(-Sum((Var(0,3,0)-Var(1,3,1))**2)/(2*Var(2,1,2)**2)),Var(3,3,1)),0) ... OK\n"
     ]
    },
    {
     "ename": "IndexError",
     "evalue": "too many indices for tensor of dimension 2",
     "output_type": "error",
     "traceback": [
      "\u001b[0;31m---------------------------------------------------------------------------\u001b[0m",
      "\u001b[0;31mIndexError\u001b[0m                                Traceback (most recent call last)",
      "\u001b[1;32m/home/GitHub/scikit-shapes/example.ipynb Cell 51\u001b[0m in \u001b[0;36m<cell line: 8>\u001b[0;34m()\u001b[0m\n\u001b[1;32m      <a href='vscode-notebook-cell://ssh-remote%2Bkeops_full_container~localhost/home/GitHub/scikit-shapes/example.ipynb#Y110sdnNjb2RlLXJlbW90ZQ%3D%3D?line=3'>4</a>\u001b[0m source \u001b[39m=\u001b[39m sks\u001b[39m.\u001b[39mPolyData(pyvista\u001b[39m.\u001b[39mSphere())\n\u001b[1;32m      <a href='vscode-notebook-cell://ssh-remote%2Bkeops_full_container~localhost/home/GitHub/scikit-shapes/example.ipynb#Y110sdnNjb2RlLXJlbW90ZQ%3D%3D?line=5'>6</a>\u001b[0m curvature \u001b[39m=\u001b[39m sks\u001b[39m.\u001b[39msmooth_curvatures(vertices\u001b[39m=\u001b[39msource\u001b[39m.\u001b[39mpoints, triangles\u001b[39m=\u001b[39msource\u001b[39m.\u001b[39mtriangles)\n\u001b[0;32m----> <a href='vscode-notebook-cell://ssh-remote%2Bkeops_full_container~localhost/home/GitHub/scikit-shapes/example.ipynb#Y110sdnNjb2RlLXJlbW90ZQ%3D%3D?line=7'>8</a>\u001b[0m source\u001b[39m.\u001b[39mpoint_data[\u001b[39m\"\u001b[39m\u001b[39mmean_curvature\u001b[39m\u001b[39m\"\u001b[39m] \u001b[39m=\u001b[39m curvature[\u001b[39m\"\u001b[39;49m\u001b[39mmean\u001b[39;49m\u001b[39m\"\u001b[39;49m]\n\u001b[1;32m      <a href='vscode-notebook-cell://ssh-remote%2Bkeops_full_container~localhost/home/GitHub/scikit-shapes/example.ipynb#Y110sdnNjb2RlLXJlbW90ZQ%3D%3D?line=8'>9</a>\u001b[0m source\u001b[39m.\u001b[39mpoint_data[\u001b[39m\"\u001b[39m\u001b[39mgauss_curvature\u001b[39m\u001b[39m\"\u001b[39m] \u001b[39m=\u001b[39m curvature[\u001b[39m\"\u001b[39m\u001b[39mgauss\u001b[39m\u001b[39m\"\u001b[39m]\n\u001b[1;32m     <a href='vscode-notebook-cell://ssh-remote%2Bkeops_full_container~localhost/home/GitHub/scikit-shapes/example.ipynb#Y110sdnNjb2RlLXJlbW90ZQ%3D%3D?line=10'>11</a>\u001b[0m source\u001b[39m.\u001b[39mpoint_data \u001b[39m=\u001b[39m curvature\n",
      "\u001b[0;31mIndexError\u001b[0m: too many indices for tensor of dimension 2"
     ]
    }
   ],
   "source": [
    "import skshapes as sks\n",
    "import pyvista\n",
    "\n",
    "source = sks.PolyData(pyvista.Sphere())\n",
    "\n",
    "curvature = sks.smooth_curvatures_2(vertices=source.points, triangles=source.triangles)\n",
    "source.point_data[\"mean_curvature\"] = curvature[\"mean\"]\n",
    "source.point_data[\"gauss_curvature\"] = curvature[\"gauss\"]"
   ]
  },
  {
   "cell_type": "code",
   "execution_count": null,
   "metadata": {},
   "outputs": [
    {
     "data": {
      "text/plain": [
       "tensor([[1., 1.],\n",
       "        [1., 1.],\n",
       "        [1., 1.],\n",
       "        ...,\n",
       "        [1., 1.],\n",
       "        [1., 1.],\n",
       "        [1., 1.]])"
      ]
     },
     "execution_count": 25,
     "metadata": {},
     "output_type": "execute_result"
    }
   ],
   "source": [
    "curvature"
   ]
  },
  {
   "cell_type": "code",
   "execution_count": null,
   "metadata": {},
   "outputs": [
    {
     "data": {
      "text/html": [
       "<table><tr><th>Header</th><th>Data Arrays</th></tr><tr><td>\n",
       "<table>\n",
       "<tr><th>PolyData</th><th>Information</th></tr>\n",
       "<tr><td>N Cells</td><td>1680</td></tr>\n",
       "<tr><td>N Points</td><td>842</td></tr>\n",
       "<tr><td>N Strips</td><td>0</td></tr>\n",
       "<tr><td>X Bounds</td><td>-4.993e-01, 4.993e-01</td></tr>\n",
       "<tr><td>Y Bounds</td><td>-4.965e-01, 4.965e-01</td></tr>\n",
       "<tr><td>Z Bounds</td><td>-5.000e-01, 5.000e-01</td></tr>\n",
       "<tr><td>N Arrays</td><td>4</td></tr>\n",
       "</table>\n",
       "\n",
       "</td><td>\n",
       "<table>\n",
       "<tr><th>Name</th><th>Field</th><th>Type</th><th>N Comp</th><th>Min</th><th>Max</th></tr>\n",
       "<tr><td>normals</td><td>Points</td><td>float32</td><td>3</td><td>2.091e-04</td><td>1.000e+00</td></tr>\n",
       "<tr><td>color</td><td>Points</td><td>float32</td><td>3</td><td>7.989e-04</td><td>9.998e-01</td></tr>\n",
       "<tr><td>Normals</td><td>Points</td><td>float32</td><td>3</td><td>-1.000e+00</td><td>1.000e+00</td></tr>\n",
       "<tr><td>curvature</td><td>Points</td><td>float32</td><td>3</td><td>1.680e-04</td><td>1.000e+00</td></tr>\n",
       "</table>\n",
       "\n",
       "</td></tr> </table>"
      ],
      "text/plain": [
       "PolyData (0x7f68d3044c40)\n",
       "  N Cells:    1680\n",
       "  N Points:   842\n",
       "  N Strips:   0\n",
       "  X Bounds:   -4.993e-01, 4.993e-01\n",
       "  Y Bounds:   -4.965e-01, 4.965e-01\n",
       "  Z Bounds:   -5.000e-01, 5.000e-01\n",
       "  N Arrays:   4"
      ]
     },
     "execution_count": 7,
     "metadata": {},
     "output_type": "execute_result"
    }
   ],
   "source": [
    "pyvista.PolyData(back_to_vedo.polydata())"
   ]
  },
  {
   "cell_type": "code",
   "execution_count": null,
   "metadata": {},
   "outputs": [
    {
     "data": {
      "text/plain": [
       "{'Normals': array([[-1.1102230e-16,  0.0000000e+00, -1.0000000e+00],\n",
       "        [ 1.1102230e-16,  0.0000000e+00,  1.0000000e+00],\n",
       "        [-1.0811902e-01,  0.0000000e+00, -9.9413794e-01],\n",
       "        ...,\n",
       "        [-3.1232402e-01, -6.6386521e-02,  9.4765317e-01],\n",
       "        [-2.1027282e-01, -4.4694867e-02,  9.7662055e-01],\n",
       "        [-1.0575636e-01, -2.2479208e-02,  9.9413794e-01]], dtype=float32),\n",
       " 'curvature': array([[0.6711359 , 0.77746195, 0.3931317 ],\n",
       "        [0.38696626, 0.89644647, 0.4605668 ],\n",
       "        [0.733894  , 0.5279876 , 0.74706656],\n",
       "        ...,\n",
       "        [0.5383424 , 0.08545206, 0.81374276],\n",
       "        [0.34523958, 0.26481548, 0.51666945],\n",
       "        [0.86302567, 0.38768125, 0.28836533]], dtype=float32),\n",
       " 'color': array([[0.75397694, 0.47477144, 0.8842153 ],\n",
       "        [0.3546514 , 0.78156686, 0.09823108],\n",
       "        [0.99529535, 0.8823485 , 0.8555591 ],\n",
       "        ...,\n",
       "        [0.75807625, 0.35306746, 0.7836052 ],\n",
       "        [0.8160493 , 0.14893413, 0.32982004],\n",
       "        [0.85742664, 0.61322594, 0.16126603]], dtype=float32),\n",
       " 'normals': array([[0.78411466, 0.773273  , 0.48186323],\n",
       "        [0.75188696, 0.7211745 , 0.8043806 ],\n",
       "        [0.02023811, 0.08400115, 0.4376632 ],\n",
       "        ...,\n",
       "        [0.93505436, 0.8260051 , 0.04536058],\n",
       "        [0.88592297, 0.24913372, 0.46408257],\n",
       "        [0.2658359 , 0.02732859, 0.1140025 ]], dtype=float32)}"
      ]
     },
     "execution_count": 5,
     "metadata": {},
     "output_type": "execute_result"
    }
   ],
   "source": [
    "d.to_numpy_dict()"
   ]
  },
  {
   "cell_type": "code",
   "execution_count": null,
   "metadata": {},
   "outputs": [
    {
     "name": "stdout",
     "output_type": "stream",
     "text": [
      "cuda\n",
      "cuda\n"
     ]
    }
   ],
   "source": [
    "mesh = mesh.to(\"cuda\")\n",
    "print(mesh.device)\n",
    "print(mesh.point_data.device)"
   ]
  },
  {
   "cell_type": "code",
   "execution_count": null,
   "metadata": {},
   "outputs": [
    {
     "ename": "NameError",
     "evalue": "name 'd' is not defined",
     "output_type": "error",
     "traceback": [
      "\u001b[0;31m---------------------------------------------------------------------------\u001b[0m",
      "\u001b[0;31mNameError\u001b[0m                                 Traceback (most recent call last)",
      "\u001b[1;32m/home/GitHub/scikit-shapes/example.ipynb Cell 53\u001b[0m in \u001b[0;36m<cell line: 1>\u001b[0;34m()\u001b[0m\n\u001b[0;32m----> <a href='vscode-notebook-cell://ssh-remote%2Bkeops_full_container~localhost/home/GitHub/scikit-shapes/example.ipynb#Y101sdnNjb2RlLXJlbW90ZQ%3D%3D?line=0'>1</a>\u001b[0m d\u001b[39m.\u001b[39mvalues()\n",
      "\u001b[0;31mNameError\u001b[0m: name 'd' is not defined"
     ]
    }
   ],
   "source": [
    "d.values()"
   ]
  },
  {
   "cell_type": "code",
   "execution_count": null,
   "metadata": {},
   "outputs": [
    {
     "name": "stdout",
     "output_type": "stream",
     "text": [
      "curvature (842, 3)\n"
     ]
    }
   ],
   "source": [
    "for key, value in mesh_pv.point_data.items():\n",
    "    print(key, value.shape)"
   ]
  },
  {
   "cell_type": "code",
   "execution_count": null,
   "metadata": {},
   "outputs": [],
   "source": [
    "[i for i in mesh_vedo.pointdata]"
   ]
  },
  {
   "cell_type": "code",
   "execution_count": null,
   "metadata": {},
   "outputs": [
    {
     "data": {
      "text/plain": [
       "pyvista DataSetAttributes\n",
       "Association     : POINT\n",
       "Active Scalars  : my_array\n",
       "Active Vectors  : None\n",
       "Active Texture  : TCoords\n",
       "Active Normals  : Normals\n",
       "Contains arrays :\n",
       "    Normals                 float32    (8, 3)               NORMALS\n",
       "    TCoords                 float32    (8, 2)               TCOORDS\n",
       "    my_array                float64    (8,)                 SCALARS\n",
       "    my_other_array          int64      (8,)"
      ]
     },
     "execution_count": 11,
     "metadata": {},
     "output_type": "execute_result"
    }
   ],
   "source": [
    "mesh = pyvista.Cube()\n",
    "# mesh.clear_data()\n",
    "mesh.point_data[\"my_array\"] = np.random.random(mesh.n_points)\n",
    "mesh.point_data[\"my_other_array\"] = np.arange(mesh.n_points)\n",
    "mesh.point_data"
   ]
  },
  {
   "cell_type": "code",
   "execution_count": null,
   "metadata": {},
   "outputs": [
    {
     "name": "stdout",
     "output_type": "stream",
     "text": [
      "running : 2\n",
      "running : 2\n"
     ]
    },
    {
     "data": {
      "text/plain": [
       "20"
      ]
     },
     "execution_count": 19,
     "metadata": {},
     "output_type": "execute_result"
    }
   ],
   "source": [
    "from functools import lru_cache\n",
    "\n",
    "a = 2\n",
    "\n",
    "\n",
    "@lru_cache(maxsize=10)\n",
    "def square(x: float) -> float:\n",
    "    print(f\"running : {x}\")\n",
    "    return a * x * x\n",
    "\n",
    "\n",
    "square(2)\n",
    "a = 5\n",
    "square(2)"
   ]
  },
  {
   "cell_type": "code",
   "execution_count": null,
   "metadata": {},
   "outputs": [],
   "source": [
    "from functools import cached_property\n",
    "import statistics\n",
    "\n",
    "\n",
    "class DataSet:\n",
    "    def __init__(self, sequence_of_numbers):\n",
    "        self._data = tuple(sequence_of_numbers)\n",
    "\n",
    "    @cached_property\n",
    "    # @property\n",
    "    def stdev(self):\n",
    "        return statistics.stdev(self._data)\n",
    "\n",
    "\n",
    "old_sequence = [1, 2, 3, 4, 5]\n",
    "new_sequence = [0, 5, 10, 15, 20]\n",
    "\n",
    "A = DataSet(old_sequence)\n",
    "old_std = A.stdev\n",
    "del A.stdev\n",
    "A._data = new_sequence\n",
    "new_std = A.stdev\n",
    "\n",
    "assert old_std == statistics.stdev(old_sequence)\n",
    "assert new_std == statistics.stdev(new_sequence)"
   ]
  },
  {
   "cell_type": "code",
   "execution_count": null,
   "metadata": {},
   "outputs": [
    {
     "ename": "RuntimeError",
     "evalue": "a leaf Variable that requires grad is being used in an in-place operation.",
     "output_type": "error",
     "traceback": [
      "\u001b[0;31m---------------------------------------------------------------------------\u001b[0m",
      "\u001b[0;31mRuntimeError\u001b[0m                              Traceback (most recent call last)",
      "\u001b[1;32m/home/GitHub/scikit-shapes/example.ipynb Cell 62\u001b[0m in \u001b[0;36m<cell line: 17>\u001b[0;34m()\u001b[0m\n\u001b[1;32m     <a href='vscode-notebook-cell://ssh-remote%2Bkeops_full_container~localhost/home/GitHub/scikit-shapes/example.ipynb#Y115sdnNjb2RlLXJlbW90ZQ%3D%3D?line=14'>15</a>\u001b[0m \u001b[39mif\u001b[39;00m \u001b[39mnot\u001b[39;00m X\u001b[39m.\u001b[39mrequires_grad:\n\u001b[1;32m     <a href='vscode-notebook-cell://ssh-remote%2Bkeops_full_container~localhost/home/GitHub/scikit-shapes/example.ipynb#Y115sdnNjb2RlLXJlbW90ZQ%3D%3D?line=15'>16</a>\u001b[0m     X\u001b[39m.\u001b[39mrequires_grad_(\u001b[39mTrue\u001b[39;00m)\n\u001b[0;32m---> <a href='vscode-notebook-cell://ssh-remote%2Bkeops_full_container~localhost/home/GitHub/scikit-shapes/example.ipynb#Y115sdnNjb2RlLXJlbW90ZQ%3D%3D?line=16'>17</a>\u001b[0m foo(X)\n\u001b[1;32m     <a href='vscode-notebook-cell://ssh-remote%2Bkeops_full_container~localhost/home/GitHub/scikit-shapes/example.ipynb#Y115sdnNjb2RlLXJlbW90ZQ%3D%3D?line=17'>18</a>\u001b[0m X\u001b[39m.\u001b[39mrequires_grad_(\u001b[39mFalse\u001b[39;00m)\n",
      "\u001b[1;32m/home/GitHub/scikit-shapes/example.ipynb Cell 62\u001b[0m in \u001b[0;36mfoo\u001b[0;34m(X)\u001b[0m\n\u001b[1;32m     <a href='vscode-notebook-cell://ssh-remote%2Bkeops_full_container~localhost/home/GitHub/scikit-shapes/example.ipynb#Y115sdnNjb2RlLXJlbW90ZQ%3D%3D?line=9'>10</a>\u001b[0m \u001b[39mdef\u001b[39;00m \u001b[39mfoo\u001b[39m(X):\n\u001b[0;32m---> <a href='vscode-notebook-cell://ssh-remote%2Bkeops_full_container~localhost/home/GitHub/scikit-shapes/example.ipynb#Y115sdnNjb2RlLXJlbW90ZQ%3D%3D?line=10'>11</a>\u001b[0m     X \u001b[39m+\u001b[39m\u001b[39m=\u001b[39m \u001b[39m1\u001b[39m\n\u001b[1;32m     <a href='vscode-notebook-cell://ssh-remote%2Bkeops_full_container~localhost/home/GitHub/scikit-shapes/example.ipynb#Y115sdnNjb2RlLXJlbW90ZQ%3D%3D?line=11'>12</a>\u001b[0m     \u001b[39mreturn\u001b[39;00m X\n",
      "\u001b[0;31mRuntimeError\u001b[0m: a leaf Variable that requires grad is being used in an in-place operation."
     ]
    }
   ],
   "source": [
    "# Can we detect toech inplace opration\n",
    "import torch\n",
    "from torch.autograd import set_detect_anomaly\n",
    "\n",
    "set_detect_anomaly(True)\n",
    "\n",
    "X = torch.rand(10, 3)\n",
    "# X.requires_grad = True\n",
    "\n",
    "\n",
    "def foo(X):\n",
    "    X += 1\n",
    "    return X\n",
    "\n",
    "\n",
    "if not X.requires_grad:\n",
    "    X.requires_grad_(True)\n",
    "foo(X)\n",
    "X.requires_grad_(False)"
   ]
  },
  {
   "cell_type": "code",
   "execution_count": null,
   "metadata": {},
   "outputs": [
    {
     "name": "stdout",
     "output_type": "stream",
     "text": [
      "Initialize Quadrics took:  0.003398418426513672\n",
      "Boundary quadrics took:  0.001462697982788086\n",
      "Initialize costs took:  0.01796579360961914\n",
      "Collapse took:  0.048362016677856445\n"
     ]
    }
   ],
   "source": [
    "import skshapes as sks\n",
    "import pyvista\n",
    "\n",
    "mesh = sks.PolyData(pyvista.Sphere())\n",
    "\n",
    "\n",
    "decimator = sks.QuadricDecimation(target_reduction=0.9)\n",
    "decimator.fit(mesh)\n",
    "new = decimator.transform(mesh)\n",
    "\n",
    "new.save(\"new.vtk\")\n",
    "mesh.save(\"old.vtk\")"
   ]
  },
  {
   "cell_type": "code",
   "execution_count": null,
   "metadata": {},
   "outputs": [],
   "source": [
    "import skshapes as sks\n",
    "import pyvista\n",
    "\n",
    "\n",
    "def test_decimation_basic():\n",
    "    ## Assert that the if we fit_transform the decimator from sks on a mesh, and then transform a copy of the mesh\n",
    "    ## the result is the same\n",
    "\n",
    "    sphere = sks.PolyData(pyvista.Sphere())\n",
    "    sphere_copy = sks.PolyData(pyvista.Sphere())\n",
    "\n",
    "    decimation = sks.QuadricDecimation(n_points=15, implementation=\"sks\")\n",
    "\n",
    "    # fit the decimator on the mesh\n",
    "    decimated_sphere = decimation.fit_transform(sphere)\n",
    "    # transform a copy of the mesh\n",
    "    decimated_sphere_copy = decimation.transform(sphere_copy)\n",
    "\n",
    "    # Assert that the result is the same\n",
    "    assert torch.allclose(decimated_sphere.points, decimated_sphere_copy.points)\n",
    "    assert torch.allclose(decimated_sphere.triangles, decimated_sphere_copy.triangles)\n",
    "\n",
    "    ## Assert that the decimator with implementation=\"vtk\" gives the same result as pyvista\n",
    "\n",
    "    decimation = sks.QuadricDecimation(target_reduction=0.8, implementation=\"vtk\")\n",
    "    decimated_sphere_sks = decimation.fit_transform(sphere)\n",
    "    decimated_sphere_vtk = sks.PolyData(\n",
    "        sphere.to_pyvista().decimate(target_reduction=0.8)\n",
    "    )\n",
    "\n",
    "    assert torch.allclose(decimated_sphere_sks.points, decimated_sphere_vtk.points)\n",
    "    assert torch.allclose(\n",
    "        decimated_sphere_sks.triangles, decimated_sphere_vtk.triangles\n",
    "    )\n",
    "\n",
    "\n",
    "def test_decimation_gpu():\n",
    "    # Assert that the decimation works with PolyData on the gpu\n",
    "    sphere = sks.PolyData(pyvista.Sphere(), device=\"cuda\")\n",
    "\n",
    "    dec = sks.QuadricDecimation(n_points=15, implementation=\"sks\")\n",
    "    dec.fit(sphere)\n",
    "    newsphere = dec.transform(sphere.to(\"cpu\"))\n",
    "    assert newsphere.points.device.type == \"cpu\"\n",
    "\n",
    "    newsphere = dec.transform(sphere.to(\"cuda\"))\n",
    "    assert newsphere.points.device.type == \"cuda\""
   ]
  },
  {
   "cell_type": "code",
   "execution_count": null,
   "metadata": {},
   "outputs": [
    {
     "name": "stdout",
     "output_type": "stream",
     "text": [
      "old indices : \n",
      " tensor([[ 0,  1,  2,  2,  2,  3],\n",
      "        [ 4,  1,  0,  2, 30, 27]])\n",
      "old values : \n",
      " tensor([1.0000, 1.0000, 0.3000, 0.3000, 0.4000, 1.0000])\n",
      "old shape : \n",
      " torch.Size([4, 842])\n",
      "\n",
      "new indices : \n",
      " tensor([[ 0,  1,  2,  3],\n",
      "        [75, 20, 26,  4]])\n",
      "new values : \n",
      " tensor([1., 1., 1., 1.])\n",
      "new shape : \n",
      " torch.Size([4, 85])\n"
     ]
    }
   ],
   "source": [
    "import skshapes as sks\n",
    "import pyvista\n",
    "import torch\n",
    "\n",
    "mesh = sks.PolyData(pyvista.Sphere())\n",
    "\n",
    "values = [1, 1, 0.3, 0.4, 0.3, 1]\n",
    "indices = [\n",
    "    [0, 1, 2, 2, 2, 3],\n",
    "    [4, 1, 2, 30, 0, 27],\n",
    "]\n",
    "n_landmarks = 4\n",
    "n_points = mesh.n_points\n",
    "landmarks = torch.sparse_coo_tensor(\n",
    "    indices=indices, values=values, size=(n_landmarks, n_points), device=\"cpu\"\n",
    ")\n",
    "mesh.landmarks = landmarks\n",
    "\n",
    "decimator = sks.QuadricDecimation(target_reduction=0.9, implementation='sks')\n",
    "decimated_mesh = decimator.fit_transform(mesh)\n",
    "\n",
    "assert hasattr(mesh, \"_landmarks\")\n",
    "assert decimated_mesh.landmarks is not None\n",
    "\n",
    "\n",
    "print(\"old indices : \\n\", mesh.landmarks.coalesce().indices())\n",
    "print(\"old values : \\n\", mesh.landmarks.coalesce().values())\n",
    "print(\"old shape : \\n\", mesh.landmarks.shape)\n",
    "\n",
    "print()\n",
    "\n",
    "print(\"new indices : \\n\", decimated_mesh.landmarks.coalesce().indices())\n",
    "print(\"new values : \\n\", decimated_mesh.landmarks.coalesce().values())\n",
    "print(\"new shape : \\n\", decimated_mesh.landmarks.shape)"
   ]
  },
  {
   "cell_type": "code",
   "execution_count": null,
   "metadata": {},
   "outputs": [],
   "source": [
    "import os\n",
    "import skshapes as sks\n",
    "\n",
    "folder = \"../face_data/data/cranes/raw/\"\n",
    "meshes = [sks.PolyData(f\"{folder}/{file}\") for file in os.listdir(folder)]\n",
    "\n",
    "decimator = sks.Decimation(target_reduction=0.99)\n",
    "decimator.fit(meshes[0])\n",
    "\n",
    "decimated_meshes = [decimator.transform(mesh) for mesh in meshes]\n",
    "for i in range(len(decimated_meshes)):\n",
    "    decimated_meshes[i].save(f\"data/test_decimation/decimated_mesh{i:03d}.vtk\")"
   ]
  },
  {
   "cell_type": "code",
   "execution_count": null,
   "metadata": {},
   "outputs": [],
   "source": []
  },
  {
   "cell_type": "code",
   "execution_count": null,
   "metadata": {},
   "outputs": [],
   "source": [
    "decimated_meshes = [decimator.transform(mesh) for mesh in meshes]\n",
    "for i in range(len(decimated_meshes)):\n",
    "    decimated_meshes[i].save(f\"data/test_decimation/decimated_skull{i:03d}.vtk\")"
   ]
  },
  {
   "cell_type": "code",
   "execution_count": null,
   "metadata": {},
   "outputs": [
    {
     "data": {
      "text/plain": [
       "82910"
      ]
     },
     "execution_count": 6,
     "metadata": {},
     "output_type": "execute_result"
    }
   ],
   "source": [
    "decimated_meshes[0].n_points"
   ]
  },
  {
   "cell_type": "code",
   "execution_count": null,
   "metadata": {},
   "outputs": [
    {
     "data": {
      "text/plain": [
       "92122"
      ]
     },
     "execution_count": 7,
     "metadata": {},
     "output_type": "execute_result"
    }
   ],
   "source": [
    "meshes[0].n_points"
   ]
  },
  {
   "cell_type": "code",
   "execution_count": null,
   "metadata": {},
   "outputs": [
    {
     "name": "stdout",
     "output_type": "stream",
     "text": [
      "Running for 20 points\n",
      "{'initialize_quadrics': 0.001894235610961914, 'check_boundary_constraints': 0.0011174678802490234, 'initialize_costs': 0.008555889129638672, 'collapse': 0.04821157455444336, 'total': 0.05977916717529297}\n",
      "{'initialize_quadrics': 0.00189971923828125, 'check_boundary_constraints': 0.0003838539123535156, 'initialize_costs': 0.008517742156982422, 'collapse': 0.04782295227050781, 'total': 0.058624267578125}\n",
      "{'initialize_quadrics': 0.0019083023071289062, 'check_boundary_constraints': 0.0003705024719238281, 'initialize_costs': 0.008470773696899414, 'collapse': 0.04750227928161621, 'total': 0.05825185775756836}\n",
      "\n",
      "\n",
      "Running for 100 points\n",
      "{'initialize_quadrics': 0.0020160675048828125, 'check_boundary_constraints': 0.0003879070281982422, 'initialize_costs': 0.008585691452026367, 'collapse': 0.04428410530090332, 'total': 0.05527377128601074}\n",
      "{'initialize_quadrics': 0.0021343231201171875, 'check_boundary_constraints': 0.0007877349853515625, 'initialize_costs': 0.008546590805053711, 'collapse': 0.03733420372009277, 'total': 0.048802852630615234}\n",
      "{'initialize_quadrics': 0.0019598007202148438, 'check_boundary_constraints': 0.0007014274597167969, 'initialize_costs': 0.0085296630859375, 'collapse': 0.0368344783782959, 'total': 0.04802536964416504}\n",
      "\n",
      "\n",
      "Running for 200 points\n",
      "{'initialize_quadrics': 0.0018906593322753906, 'check_boundary_constraints': 0.0010123252868652344, 'initialize_costs': 0.00847482681274414, 'collapse': 0.028522491455078125, 'total': 0.03990030288696289}\n",
      "{'initialize_quadrics': 0.001913309097290039, 'check_boundary_constraints': 0.00039577484130859375, 'initialize_costs': 0.008587360382080078, 'collapse': 0.03647255897521973, 'total': 0.04736900329589844}\n",
      "{'initialize_quadrics': 0.002309083938598633, 'check_boundary_constraints': 0.0007574558258056641, 'initialize_costs': 0.009865760803222656, 'collapse': 0.034833669662475586, 'total': 0.04776597023010254}\n",
      "\n",
      "\n",
      "Running for 400 points\n",
      "{'initialize_quadrics': 0.002455472946166992, 'check_boundary_constraints': 0.0010313987731933594, 'initialize_costs': 0.010922431945800781, 'collapse': 0.017650842666625977, 'total': 0.03206014633178711}\n",
      "{'initialize_quadrics': 0.0019538402557373047, 'check_boundary_constraints': 0.0003705024719238281, 'initialize_costs': 0.008505105972290039, 'collapse': 0.017504453659057617, 'total': 0.02833390235900879}\n",
      "{'initialize_quadrics': 0.0019011497497558594, 'check_boundary_constraints': 0.0003719329833984375, 'initialize_costs': 0.008408546447753906, 'collapse': 0.017413616180419922, 'total': 0.028095245361328125}\n",
      "\n",
      "\n"
     ]
    }
   ],
   "source": [
    "# Decimation time analysis\n",
    "\n",
    "import skshapes as sks\n",
    "import pyvista\n",
    "\n",
    "# warm up\n",
    "decimator = sks.Decimation(n_points = 500, method='sks', running_time=True)\n",
    "decimator.fit(sks.PolyData(pyvista.Sphere()))\n",
    "\n",
    "# run\n",
    "mesh = sks.PolyData(pyvista.Sphere()) #842pts\n",
    "\n",
    "n_runs = 3\n",
    "n_points = [20, 100, 200, 400]\n",
    "\n",
    "for n in n_points:\n",
    "    print(f'Running for {n} points')\n",
    "    for i in range(n_runs):\n",
    "        decimator = sks.Decimation(n_points = n, method='sks', running_time=True)\n",
    "        decimator.fit(mesh)\n",
    "        print(decimator.times)\n",
    "    print('\\n')"
   ]
  },
  {
   "cell_type": "code",
   "execution_count": null,
   "metadata": {},
   "outputs": [
    {
     "name": "stdout",
     "output_type": "stream",
     "text": [
      "Running for 100 points\n",
      "{'initialize_quadrics': 0.04857468605041504, 'check_boundary_constraints': 0.019577980041503906, 'initialize_costs': 0.14455628395080566, 'collapse': 5.3524558544158936, 'total': 5.565164804458618}\n",
      "{'initialize_quadrics': 0.028539419174194336, 'check_boundary_constraints': 0.014831066131591797, 'initialize_costs': 0.14342260360717773, 'collapse': 5.346810579299927, 'total': 5.533603668212891}\n",
      "{'initialize_quadrics': 0.03348660469055176, 'check_boundary_constraints': 0.020096302032470703, 'initialize_costs': 0.1511375904083252, 'collapse': 5.356110572814941, 'total': 5.560831069946289}\n",
      "{'initialize_quadrics': 0.02835869789123535, 'check_boundary_constraints': 0.014444828033447266, 'initialize_costs': 0.14347171783447266, 'collapse': 5.337568998336792, 'total': 5.523844242095947}\n",
      "{'initialize_quadrics': 0.03225302696228027, 'check_boundary_constraints': 0.02033209800720215, 'initialize_costs': 0.14810633659362793, 'collapse': 5.338156461715698, 'total': 5.538847923278809}\n",
      "\n",
      "\n",
      "Running for 150 points\n",
      "{'initialize_quadrics': 0.02832770347595215, 'check_boundary_constraints': 0.014612913131713867, 'initialize_costs': 0.14356040954589844, 'collapse': 5.249095678329468, 'total': 5.435596704483032}\n",
      "{'initialize_quadrics': 0.03382468223571777, 'check_boundary_constraints': 0.020256519317626953, 'initialize_costs': 0.14441299438476562, 'collapse': 5.244614362716675, 'total': 5.443108558654785}\n",
      "{'initialize_quadrics': 0.030701875686645508, 'check_boundary_constraints': 0.020061969757080078, 'initialize_costs': 0.15340805053710938, 'collapse': 5.247603416442871, 'total': 5.451775312423706}\n",
      "{'initialize_quadrics': 0.028338193893432617, 'check_boundary_constraints': 0.014827966690063477, 'initialize_costs': 0.14327597618103027, 'collapse': 5.2663140296936035, 'total': 5.45275616645813}\n",
      "{'initialize_quadrics': 0.028435468673706055, 'check_boundary_constraints': 0.014688968658447266, 'initialize_costs': 0.14346551895141602, 'collapse': 5.258181571960449, 'total': 5.4447715282440186}\n",
      "\n",
      "\n",
      "Running for 200 points\n",
      "{'initialize_quadrics': 0.03326988220214844, 'check_boundary_constraints': 0.01980876922607422, 'initialize_costs': 0.1480412483215332, 'collapse': 5.175244092941284, 'total': 5.37636399269104}\n",
      "{'initialize_quadrics': 0.03430891036987305, 'check_boundary_constraints': 0.020612001419067383, 'initialize_costs': 0.14867949485778809, 'collapse': 5.213827133178711, 'total': 5.4174275398254395}\n",
      "{'initialize_quadrics': 0.02831268310546875, 'check_boundary_constraints': 0.014818429946899414, 'initialize_costs': 0.14424967765808105, 'collapse': 5.193010330200195, 'total': 5.3803911209106445}\n",
      "{'initialize_quadrics': 0.028229236602783203, 'check_boundary_constraints': 0.014776468276977539, 'initialize_costs': 0.14375591278076172, 'collapse': 5.208775043487549, 'total': 5.395536661148071}\n",
      "{'initialize_quadrics': 0.028366804122924805, 'check_boundary_constraints': 0.014645099639892578, 'initialize_costs': 0.14386391639709473, 'collapse': 5.17382287979126, 'total': 5.360698699951172}\n",
      "\n",
      "\n",
      "Running for 300 points\n",
      "{'initialize_quadrics': 0.030941247940063477, 'check_boundary_constraints': 0.018378496170043945, 'initialize_costs': 0.1441054344177246, 'collapse': 5.1180641651153564, 'total': 5.3114893436431885}\n",
      "{'initialize_quadrics': 0.028409719467163086, 'check_boundary_constraints': 0.014672994613647461, 'initialize_costs': 0.1435871124267578, 'collapse': 5.115247488021851, 'total': 5.301917314529419}\n",
      "{'initialize_quadrics': 0.0320892333984375, 'check_boundary_constraints': 0.014734268188476562, 'initialize_costs': 0.1440136432647705, 'collapse': 5.045398712158203, 'total': 5.236235857009888}\n",
      "{'initialize_quadrics': 0.0289151668548584, 'check_boundary_constraints': 0.01977705955505371, 'initialize_costs': 0.15164446830749512, 'collapse': 5.050396680831909, 'total': 5.250733375549316}\n",
      "{'initialize_quadrics': 0.04271650314331055, 'check_boundary_constraints': 0.01846933364868164, 'initialize_costs': 0.1436927318572998, 'collapse': 5.066212177276611, 'total': 5.271090745925903}\n",
      "\n",
      "\n",
      "Running for 500 points\n",
      "{'initialize_quadrics': 0.03301858901977539, 'check_boundary_constraints': 0.01965808868408203, 'initialize_costs': 0.1448502540588379, 'collapse': 4.86168360710144, 'total': 5.059210538864136}\n",
      "{'initialize_quadrics': 0.030935287475585938, 'check_boundary_constraints': 0.01669144630432129, 'initialize_costs': 0.15256929397583008, 'collapse': 4.888988733291626, 'total': 5.089184761047363}\n",
      "{'initialize_quadrics': 0.028266429901123047, 'check_boundary_constraints': 0.013858318328857422, 'initialize_costs': 0.14240479469299316, 'collapse': 4.864215612411499, 'total': 5.048745155334473}\n",
      "{'initialize_quadrics': 0.03168082237243652, 'check_boundary_constraints': 0.01808643341064453, 'initialize_costs': 0.15085339546203613, 'collapse': 4.829111099243164, 'total': 5.029731750488281}\n",
      "{'initialize_quadrics': 0.028721094131469727, 'check_boundary_constraints': 0.013786077499389648, 'initialize_costs': 0.14231371879577637, 'collapse': 4.829567193984985, 'total': 5.014388084411621}\n",
      "\n",
      "\n",
      "Running for 750 points\n",
      "{'initialize_quadrics': 0.03626513481140137, 'check_boundary_constraints': 0.020258188247680664, 'initialize_costs': 0.15610527992248535, 'collapse': 4.656250476837158, 'total': 4.868879079818726}\n",
      "{'initialize_quadrics': 0.028203964233398438, 'check_boundary_constraints': 0.013870716094970703, 'initialize_costs': 0.1428239345550537, 'collapse': 4.659193754196167, 'total': 4.84409236907959}\n",
      "{'initialize_quadrics': 0.0316472053527832, 'check_boundary_constraints': 0.018734455108642578, 'initialize_costs': 0.14435243606567383, 'collapse': 4.663506507873535, 'total': 4.858240604400635}\n",
      "{'initialize_quadrics': 0.03553438186645508, 'check_boundary_constraints': 0.019519329071044922, 'initialize_costs': 0.15145277976989746, 'collapse': 4.593116760253906, 'total': 4.799623250961304}\n",
      "{'initialize_quadrics': 0.031206846237182617, 'check_boundary_constraints': 0.018457412719726562, 'initialize_costs': 0.15216422080993652, 'collapse': 4.596248149871826, 'total': 4.798076629638672}\n",
      "\n",
      "\n",
      "Running for 1000 points\n",
      "{'initialize_quadrics': 0.028302431106567383, 'check_boundary_constraints': 0.014570236206054688, 'initialize_costs': 0.14362668991088867, 'collapse': 4.384207248687744, 'total': 4.570706605911255}\n",
      "{'initialize_quadrics': 0.02827763557434082, 'check_boundary_constraints': 0.014708518981933594, 'initialize_costs': 0.1435704231262207, 'collapse': 4.413740158081055, 'total': 4.60029673576355}\n",
      "{'initialize_quadrics': 0.03464341163635254, 'check_boundary_constraints': 0.018764734268188477, 'initialize_costs': 0.1475658416748047, 'collapse': 4.499869346618652, 'total': 4.700843334197998}\n",
      "{'initialize_quadrics': 0.028446674346923828, 'check_boundary_constraints': 0.014564037322998047, 'initialize_costs': 0.14393305778503418, 'collapse': 4.451284170150757, 'total': 4.638227939605713}\n",
      "{'initialize_quadrics': 0.028471708297729492, 'check_boundary_constraints': 0.014904260635375977, 'initialize_costs': 0.14428305625915527, 'collapse': 4.404317855834961, 'total': 4.591976881027222}\n",
      "\n",
      "\n",
      "Running for 1500 points\n",
      "{'initialize_quadrics': 0.028409481048583984, 'check_boundary_constraints': 0.014792442321777344, 'initialize_costs': 0.1434803009033203, 'collapse': 4.179018497467041, 'total': 4.365700721740723}\n",
      "{'initialize_quadrics': 0.0428159236907959, 'check_boundary_constraints': 0.019285202026367188, 'initialize_costs': 0.14442920684814453, 'collapse': 4.036309003829956, 'total': 4.242839336395264}\n",
      "{'initialize_quadrics': 0.031960248947143555, 'check_boundary_constraints': 0.016981840133666992, 'initialize_costs': 0.14507126808166504, 'collapse': 4.013523578643799, 'total': 4.207536935806274}\n",
      "{'initialize_quadrics': 0.032440185546875, 'check_boundary_constraints': 0.0183103084564209, 'initialize_costs': 0.14549946784973145, 'collapse': 4.16923713684082, 'total': 4.365487098693848}\n",
      "{'initialize_quadrics': 0.036164283752441406, 'check_boundary_constraints': 0.022138357162475586, 'initialize_costs': 0.15539169311523438, 'collapse': 4.058845520019531, 'total': 4.272539854049683}\n",
      "\n",
      "\n",
      "Running for 2000 points\n",
      "{'initialize_quadrics': 0.029723167419433594, 'check_boundary_constraints': 0.014488935470581055, 'initialize_costs': 0.1441185474395752, 'collapse': 3.8037657737731934, 'total': 3.992096424102783}\n",
      "{'initialize_quadrics': 0.031609535217285156, 'check_boundary_constraints': 0.01764059066772461, 'initialize_costs': 0.14484953880310059, 'collapse': 3.6712663173675537, 'total': 3.865365982055664}\n",
      "{'initialize_quadrics': 0.030434370040893555, 'check_boundary_constraints': 0.014412403106689453, 'initialize_costs': 0.14412546157836914, 'collapse': 3.6719892024993896, 'total': 3.860961437225342}\n",
      "{'initialize_quadrics': 0.028288602828979492, 'check_boundary_constraints': 0.014569282531738281, 'initialize_costs': 0.14402103424072266, 'collapse': 3.669602155685425, 'total': 3.8564810752868652}\n",
      "{'initialize_quadrics': 0.031401634216308594, 'check_boundary_constraints': 0.018660545349121094, 'initialize_costs': 0.14497685432434082, 'collapse': 3.818472146987915, 'total': 4.0135111808776855}\n",
      "\n",
      "\n",
      "Running for 3000 points\n",
      "{'initialize_quadrics': 0.0282895565032959, 'check_boundary_constraints': 0.01476740837097168, 'initialize_costs': 0.14433717727661133, 'collapse': 3.2278127670288086, 'total': 3.4152069091796875}\n",
      "{'initialize_quadrics': 0.028378963470458984, 'check_boundary_constraints': 0.015219926834106445, 'initialize_costs': 0.1500396728515625, 'collapse': 3.350681781768799, 'total': 3.5443203449249268}\n",
      "{'initialize_quadrics': 0.029282808303833008, 'check_boundary_constraints': 0.015472888946533203, 'initialize_costs': 0.14998626708984375, 'collapse': 3.2336738109588623, 'total': 3.4284157752990723}\n",
      "{'initialize_quadrics': 0.02979874610900879, 'check_boundary_constraints': 0.01509547233581543, 'initialize_costs': 0.1486210823059082, 'collapse': 3.2300877571105957, 'total': 3.423603057861328}\n",
      "{'initialize_quadrics': 0.030513286590576172, 'check_boundary_constraints': 0.014561891555786133, 'initialize_costs': 0.1455683708190918, 'collapse': 3.120820999145508, 'total': 3.311464548110962}\n",
      "\n",
      "\n",
      "Running for 5000 points\n",
      "{'initialize_quadrics': 0.040364980697631836, 'check_boundary_constraints': 0.015575647354125977, 'initialize_costs': 0.15265774726867676, 'collapse': 2.159541606903076, 'total': 2.3681399822235107}\n",
      "{'initialize_quadrics': 0.030976533889770508, 'check_boundary_constraints': 0.016773700714111328, 'initialize_costs': 0.14541006088256836, 'collapse': 2.2043540477752686, 'total': 2.3975143432617188}\n",
      "{'initialize_quadrics': 0.031037330627441406, 'check_boundary_constraints': 0.01776576042175293, 'initialize_costs': 0.15039443969726562, 'collapse': 2.1598973274230957, 'total': 2.3590948581695557}\n",
      "{'initialize_quadrics': 0.04074287414550781, 'check_boundary_constraints': 0.01665472984313965, 'initialize_costs': 0.14392471313476562, 'collapse': 2.2450363636016846, 'total': 2.4463586807250977}\n",
      "{'initialize_quadrics': 0.031980276107788086, 'check_boundary_constraints': 0.019745349884033203, 'initialize_costs': 0.14682793617248535, 'collapse': 2.127349615097046, 'total': 2.3259031772613525}\n",
      "\n",
      "\n",
      "Running for 7500 points\n",
      "{'initialize_quadrics': 0.030896902084350586, 'check_boundary_constraints': 0.017023801803588867, 'initialize_costs': 0.14499974250793457, 'collapse': 1.325537919998169, 'total': 1.518458366394043}\n",
      "{'initialize_quadrics': 0.0318300724029541, 'check_boundary_constraints': 0.018298864364624023, 'initialize_costs': 0.15224981307983398, 'collapse': 1.2375481128692627, 'total': 1.4399268627166748}\n",
      "{'initialize_quadrics': 0.03289985656738281, 'check_boundary_constraints': 0.019461870193481445, 'initialize_costs': 0.14513731002807617, 'collapse': 1.2369990348815918, 'total': 1.4344980716705322}\n",
      "{'initialize_quadrics': 0.028493642807006836, 'check_boundary_constraints': 0.014520645141601562, 'initialize_costs': 0.1434333324432373, 'collapse': 1.2387285232543945, 'total': 1.4251761436462402}\n",
      "{'initialize_quadrics': 0.030994415283203125, 'check_boundary_constraints': 0.01671433448791504, 'initialize_costs': 0.14901041984558105, 'collapse': 1.2368452548980713, 'total': 1.4335644245147705}\n",
      "\n",
      "\n",
      "Running for 10000 points\n",
      "{'initialize_quadrics': 0.03184962272644043, 'check_boundary_constraints': 0.01764225959777832, 'initialize_costs': 0.1452035903930664, 'collapse': 0.5664868354797363, 'total': 0.7611823081970215}\n",
      "{'initialize_quadrics': 0.02817249298095703, 'check_boundary_constraints': 0.014702320098876953, 'initialize_costs': 0.14470815658569336, 'collapse': 0.6118426322937012, 'total': 0.7994256019592285}\n",
      "{'initialize_quadrics': 0.02840280532836914, 'check_boundary_constraints': 0.014654159545898438, 'initialize_costs': 0.143890380859375, 'collapse': 0.5701861381530762, 'total': 0.7571334838867188}\n",
      "{'initialize_quadrics': 0.028345584869384766, 'check_boundary_constraints': 0.014595746994018555, 'initialize_costs': 0.14383745193481445, 'collapse': 0.5661711692810059, 'total': 0.7529499530792236}\n",
      "{'initialize_quadrics': 0.03509235382080078, 'check_boundary_constraints': 0.01758575439453125, 'initialize_costs': 0.14772915840148926, 'collapse': 0.5658454895019531, 'total': 0.7662527561187744}\n",
      "\n",
      "\n"
     ]
    }
   ],
   "source": [
    "\n",
    "\n",
    "\n",
    "\n",
    "# import pickle\n",
    "# with open('running_time.pickle', 'wb') as handle:\n",
    "#     pickle.dump(running_time_record, handle, protocol=pickle.HIGHEST_PROTOCOL)"
   ]
  },
  {
   "cell_type": "code",
   "execution_count": 2,
   "metadata": {},
   "outputs": [
    {
     "name": "stdout",
     "output_type": "stream",
     "text": [
      "Running for 100 points\n",
      "{'initialize_quadrics': 0.03530073165893555, 'check_boundary_constraints': 0.015032291412353516, 'initialize_costs': 0.14213275909423828, 'collapse': 1.7769670486450195, 'total': 1.9694328308105469}\n",
      "\n",
      "\n",
      "Running for 150 points\n",
      "{'initialize_quadrics': 0.03290557861328125, 'check_boundary_constraints': 0.019748449325561523, 'initialize_costs': 0.14671015739440918, 'collapse': 1.7598953247070312, 'total': 1.9592595100402832}\n",
      "\n",
      "\n",
      "Running for 200 points\n",
      "{'initialize_quadrics': 0.029044628143310547, 'check_boundary_constraints': 0.014074325561523438, 'initialize_costs': 0.14203453063964844, 'collapse': 1.7807579040527344, 'total': 1.9659113883972168}\n",
      "\n",
      "\n",
      "Running for 300 points\n",
      "{'initialize_quadrics': 0.0288693904876709, 'check_boundary_constraints': 0.014033317565917969, 'initialize_costs': 0.14275097846984863, 'collapse': 1.7293477058410645, 'total': 1.915001392364502}\n",
      "\n",
      "\n",
      "Running for 500 points\n",
      "{'initialize_quadrics': 0.034790992736816406, 'check_boundary_constraints': 0.017079830169677734, 'initialize_costs': 0.1451113224029541, 'collapse': 1.7040457725524902, 'total': 1.9010279178619385}\n",
      "\n",
      "\n",
      "Running for 750 points\n",
      "{'initialize_quadrics': 0.03287982940673828, 'check_boundary_constraints': 0.020682811737060547, 'initialize_costs': 0.14332890510559082, 'collapse': 1.66233491897583, 'total': 1.8592264652252197}\n",
      "\n",
      "\n",
      "Running for 1000 points\n",
      "{'initialize_quadrics': 0.02900099754333496, 'check_boundary_constraints': 0.013908863067626953, 'initialize_costs': 0.142411470413208, 'collapse': 1.614086627960205, 'total': 1.799407958984375}\n",
      "\n",
      "\n",
      "Running for 1500 points\n",
      "{'initialize_quadrics': 0.03393125534057617, 'check_boundary_constraints': 0.01889657974243164, 'initialize_costs': 0.1475534439086914, 'collapse': 1.549562692642212, 'total': 1.7499439716339111}\n",
      "\n",
      "\n",
      "Running for 2000 points\n",
      "{'initialize_quadrics': 0.028666257858276367, 'check_boundary_constraints': 0.01936650276184082, 'initialize_costs': 0.14454913139343262, 'collapse': 1.491745948791504, 'total': 1.6843278408050537}\n",
      "\n",
      "\n",
      "Running for 3000 points\n",
      "{'initialize_quadrics': 0.03350830078125, 'check_boundary_constraints': 0.014220476150512695, 'initialize_costs': 0.14215373992919922, 'collapse': 1.381986141204834, 'total': 1.571868658065796}\n",
      "\n",
      "\n",
      "Running for 5000 points\n",
      "{'initialize_quadrics': 0.03426194190979004, 'check_boundary_constraints': 0.019357681274414062, 'initialize_costs': 0.15297698974609375, 'collapse': 1.098315715789795, 'total': 1.3049123287200928}\n",
      "\n",
      "\n",
      "Running for 7500 points\n",
      "{'initialize_quadrics': 0.03215336799621582, 'check_boundary_constraints': 0.018474102020263672, 'initialize_costs': 0.14390802383422852, 'collapse': 0.7506358623504639, 'total': 0.9451713562011719}\n",
      "\n",
      "\n",
      "Running for 10000 points\n",
      "{'initialize_quadrics': 0.029418230056762695, 'check_boundary_constraints': 0.013803243637084961, 'initialize_costs': 0.14204144477844238, 'collapse': 0.38578224182128906, 'total': 0.5710451602935791}\n",
      "\n",
      "\n"
     ]
    },
    {
     "data": {
      "image/png": "[encoded data removed]",
      "text/plain": [
       "<Figure size 1800x1200 with 2 Axes>"
      ]
     },
     "metadata": {
      "needs_background": "light"
     },
     "output_type": "display_data"
    },
    {
     "data": {
      "image/png": "[encoded data removed]",
      "text/plain": [
       "<Figure size 1800x1200 with 2 Axes>"
      ]
     },
     "metadata": {
      "needs_background": "light"
     },
     "output_type": "display_data"
    }
   ],
   "source": [
    "import matplotlib.pyplot as plt\n",
    "import skshapes as sks\n",
    "import numpy as np\n",
    "import pickle\n",
    "import pyvista\n",
    "\n",
    "# warm up\n",
    "decimator = sks.Decimation(n_points = 500, method='sks', running_time=True)\n",
    "decimator.fit(sks.PolyData(pyvista.Sphere()))\n",
    "\n",
    "# run\n",
    "mesh = sks.PolyData(\"../scikit-shapes-draft/data/SCAPE/scapecomp/mesh000.ply\")\n",
    "\n",
    "n_runs = 1\n",
    "n_points = [100, 150, 200, 300, 500, 750, 1000, 1500, 2000, 3000, 5000, 7500, 10000]\n",
    "\n",
    "running_time_record = dict()\n",
    "for n in n_points:\n",
    "    running_time_record[n] = []\n",
    "\n",
    "for n in n_points:\n",
    "    print(f'Running for {n} points')\n",
    "    for i in range(n_runs):\n",
    "        decimator = sks.Decimation(n_points=n, method='sks', running_time=True)\n",
    "        decimator.fit(mesh)\n",
    "        print(decimator.times)\n",
    "        running_time_record[n].append(decimator.times)\n",
    "    print('\\n')\n",
    "\n",
    "pickle.dump(running_time_record, open('running_time_new.pickle', 'wb'))\n",
    "\n",
    "def make_running_time_plot(dict_before, dict_after, key, title):\n",
    "\n",
    "    old = dict_before\n",
    "    new = dict_after\n",
    "\n",
    "    #set a good dpi for image quality\n",
    "    plt.figure(dpi=300)\n",
    "\n",
    "    avgs_old = []\n",
    "    avgs_new = []\n",
    "\n",
    "    for x in old.keys():\n",
    "        tmp_old = []\n",
    "        tmp_new = []\n",
    "        for y in old[x]:\n",
    "            p1 = plt.scatter(x, y[key], c='k')\n",
    "            tmp_old.append(y[key])\n",
    "        \n",
    "        for y in new[x]:\n",
    "            p2 = plt.scatter(x, y[key], c='r')\n",
    "            tmp_new.append(y[key])\n",
    "        \n",
    "        avgs_old.append(np.mean(tmp_old))\n",
    "        avgs_new.append(np.mean(tmp_new))\n",
    "\n",
    "    plt.xlabel('n_points')\n",
    "    plt.ylabel(f'{key} time (s)')\n",
    "    plt.title('Initial number of points: 12500')\n",
    "    plt.legend([p1, p2], ['before', 'after'], loc='upper right')\n",
    "\n",
    "    avgs_old = np.array(avgs_old)\n",
    "    avgs_new = np.array(avgs_new)\n",
    "\n",
    "    reduction = 100 * (avgs_old - avgs_new) / avgs_old\n",
    "\n",
    "    plt.plot(old.keys(), avgs_old, 'k--')\n",
    "    plt.plot(old.keys(), avgs_new, 'r--')\n",
    "\n",
    "    #add another scale for the average\n",
    "    ax2 = plt.twinx()\n",
    "    ax2.plot(old.keys(), reduction, 'g--')\n",
    "    ax2.text(10, np.mean(reduction) + 5, f'mean: {round(np.mean(reduction), 1)}%', color='g')\n",
    "    #set ax2 axis values from 0 to 100\n",
    "    ax2.set_ylim(0, 100)\n",
    "    ax2.set_ylabel('reduction (%)', color='g')\n",
    "\n",
    "    plt.savefig(title)\n",
    "\n",
    "\n",
    "for key in ['collapse', 'total']:\n",
    "\n",
    "    make_running_time_plot(\n",
    "        dict_before = pickle.load(open('running_time.pickle', 'rb')),\n",
    "        dict_after = running_time_record,\n",
    "        key = key,\n",
    "        title = f\"running_time_comparison_{key}.png\"\n",
    "    )"
   ]
  },
  {
   "cell_type": "code",
   "execution_count": 3,
   "metadata": {},
   "outputs": [
    {
     "name": "stdout",
     "output_type": "stream",
     "text": [
      "4.049447181860767e-06\n",
      "4.174340673494774e-06\n",
      "4.040386792634149e-06\n",
      "4.091271210164412e-06\n",
      "4.280719180267088e-06\n",
      "4.014038544946355e-06\n",
      "4.028242691986542e-06\n",
      "4.038759101657297e-06\n",
      "4.033551762164946e-06\n",
      "4.031084793028154e-06\n",
      "4.073277595068742e-06\n",
      "4.039140591729996e-06\n",
      "4.161452667205402e-06\n"
     ]
    },
    {
     "data": {
      "text/plain": [
       "0.7245024"
      ]
     },
     "execution_count": 3,
     "metadata": {},
     "output_type": "execute_result"
    }
   ],
   "source": [
    "mesh.n_edges\n",
    "\n",
    "for key in running_time_record:\n",
    "    print(running_time_record[key][0]['initialize_costs'] / mesh.n_edges)\n",
    "\n",
    "\n",
    "226407 * (running_time_record[key][0]['initialize_costs'] / mesh.n_edges)\n",
    "226407 * 3.2e-6"
   ]
  },
  {
   "cell_type": "code",
   "execution_count": 3,
   "metadata": {},
   "outputs": [],
   "source": [
    "percentage_running_time = {}\n",
    "\n",
    "for n in running_time_record.keys():\n",
    "        percentage_running_time[n] = {}\n",
    "        total = running_time_record[n][0]['total']\n",
    "        for i in ['initialize_quadrics', 'check_boundary_constraints', 'initialize_costs', 'collapse']:\n",
    "\n",
    "                percentage_running_time[n][i] = 100 * running_time_record[n][0][i] / total"
   ]
  },
  {
   "cell_type": "code",
   "execution_count": 4,
   "metadata": {},
   "outputs": [
    {
     "data": {
      "image/png": "[encoded data removed]",
      "text/plain": [
       "<Figure size 1800x1200 with 1 Axes>"
      ]
     },
     "metadata": {
      "needs_background": "light"
     },
     "output_type": "display_data"
    }
   ],
   "source": [
    "x = [n for n in percentage_running_time.keys()]\n",
    "\n",
    "#set a good dpi\n",
    "plt.figure(dpi=300)\n",
    "\n",
    "for i in ['initialize_quadrics', 'check_boundary_constraints', 'initialize_costs', 'collapse']:\n",
    "    y = [percentage_running_time[x][i] for x in percentage_running_time.keys()]\n",
    "    plt.plot(x, y, label=i)\n",
    "\n",
    "sum = [percentage_running_time[x]['initialize_quadrics'] + percentage_running_time[x]['check_boundary_constraints'] + percentage_running_time[x]['initialize_costs'] + percentage_running_time[x]['collapse'] for x in percentage_running_time.keys()]\n",
    "plt.plot(x, sum, label='sum')\n",
    "\n",
    "plt.legend()\n",
    "plt.title('Percentage of running time for each step')\n",
    "plt.xlabel('n_points')\n",
    "plt.ylabel('Percentage of running time')\n",
    "plt.ylim(0, 101)\n",
    "plt.savefig('percentage_running_time.png')\n"
   ]
  },
  {
   "cell_type": "code",
   "execution_count": 1,
   "metadata": {},
   "outputs": [],
   "source": [
    "import skshapes as sks\n",
    "import torch\n",
    "\n",
    "folder = \"../scikit-shapes-draft/data/SCAPE/scapecomp\"\n",
    "meshes = [sks.PolyData(f\"{folder}/mesh{i:03d}.ply\") for i in range(10)]\n",
    "\n",
    "values = [1, 1, 0.3, 0.4, 0.3, 1]\n",
    "indices = [\n",
    "    [0, 1, 2, 2, 2, 3],\n",
    "    [4, 2531, 6403, 6318, 6294, 11000],\n",
    "]\n",
    "n_landmarks = 4\n",
    "n_points = meshes[0].n_points\n",
    "landmarks = torch.sparse_coo_tensor(\n",
    "    indices=indices, values=values, size=(n_landmarks, n_points), device=\"cpu\"\n",
    ")\n",
    "\n",
    "for i in range(len(meshes)):\n",
    "    meshes[i].landmarks = landmarks\n",
    "\n",
    "decimator = sks.Decimation(n_points=150, method=\"sks\")\n",
    "decimator.fit(meshes[0])\n",
    "\n",
    "decimated_meshes = [decimator.transform(mesh) for mesh in meshes]\n",
    "\n",
    "\n",
    "for i in range(len(decimated_meshes)):\n",
    "    decimated_meshes[i].save(f\"data/test_decimation/decimated_mesh{i:03d}.ply\")\n",
    "    l = decimated_meshes[i].landmark_points\n",
    "    sks.PolyData(l).save(f\"data/test_decimation/decimated_meshlandmarks{i:03d}_landmarks.ply\")"
   ]
  },
  {
   "cell_type": "code",
   "execution_count": 4,
   "metadata": {},
   "outputs": [
    {
     "name": "stdout",
     "output_type": "stream",
     "text": [
      "Fit time: 78.42s\n"
     ]
    }
   ],
   "source": [
    "import os\n",
    "import skshapes as sks\n",
    "from time import time\n",
    "\n",
    "#Warmup\n",
    "sphere = sks.Sphere()\n",
    "decimator = sks.Decimation(n_points=100, method='sks')\n",
    "decimator.fit(sphere)\n",
    "\n",
    "folder = \"../face_data/data/cranes/raw/\"\n",
    "meshes = [sks.PolyData(f\"{folder}/{file}\") for file in os.listdir(folder)]\n",
    "\n",
    "decimator = sks.Decimation(target_reduction=0.99, method =\"sks\")\n",
    "start = time()\n",
    "decimator.fit(meshes[0])\n",
    "print(f\"Fit time: {time()-start:.2f}s\")\n",
    "\n",
    "decimated_meshes = [decimator.transform(mesh) for mesh in meshes]\n",
    "\n",
    "for i in range(len(decimated_meshes)):\n",
    "    decimated_meshes[i].save(f\"data/test_decimation/decimated_skull{i:03d}.ply\")"
   ]
  },
  {
   "cell_type": "code",
   "execution_count": 5,
   "metadata": {},
   "outputs": [],
   "source": [
    "import pyvista.examples\n",
    "import pyvista\n",
    "\n",
    "import skshapes as sks\n",
    "\n",
    "meshes = {\n",
    "\n",
    "    'sphere': sks.PolyData(pyvista.Sphere()),\n",
    "    'cow' : sks.PolyData(pyvista.examples.download_cow()),\n",
    "    'torso': sks.PolyData(pyvista.examples.download_torso()),\n",
    "    'bunny': sks.PolyData(pyvista.examples.download_bunny()),\n",
    "    'lucy': sks.PolyData(pyvista.examples.download_lucy()),\n",
    "}"
   ]
  },
  {
   "cell_type": "code",
   "execution_count": 11,
   "metadata": {},
   "outputs": [
    {
     "name": "stdout",
     "output_type": "stream",
     "text": [
      "sphere\n",
      "Initial number of points: 842\n",
      "Number of points after decimation: 421. Took 0.030590057373046875 seconds\n",
      "\n",
      "cow\n",
      "Initial number of points: 2903\n",
      "Number of points after decimation: 1452. Took 0.13123488426208496 seconds\n",
      "\n",
      "torso\n",
      "Initial number of points: 12015\n",
      "Number of points after decimation: 6008. Took 1.3870532512664795 seconds\n",
      "\n",
      "bunny\n",
      "Initial number of points: 34834\n",
      "Number of points after decimation: 17417. Took 7.8976099491119385 seconds\n",
      "\n",
      "lucy\n",
      "Initial number of points: 49987\n",
      "Number of points after decimation: 24994. Took 14.121912002563477 seconds\n",
      "\n"
     ]
    }
   ],
   "source": [
    "from time import time\n",
    "decimator = sks.Decimation(target_reduction=0.5, method='sks')\n",
    "\n",
    "for key in meshes:\n",
    "    print(key)\n",
    "    print(f\"Initial number of points: {meshes[key].n_points}\")\n",
    "    start = time()\n",
    "    decimated = decimator.fit_transform(meshes[key])\n",
    "    print(f\"Number of points after decimation: {decimated.n_points}. Took {time() - start} seconds\\n\")\n",
    "    decimated.save(f\"data/test_decimation/{key}_decimated.ply\")"
   ]
  },
  {
   "cell_type": "code",
   "execution_count": 13,
   "metadata": {},
   "outputs": [
    {
     "data": {
      "image/png": "[encoded data removed]",
      "text/plain": [
       "<Figure size 1800x1200 with 1 Axes>"
      ]
     },
     "metadata": {
      "needs_background": "light"
     },
     "output_type": "display_data"
    }
   ],
   "source": [
    "x = [842, 2903, 12015, 34834, 49987]\n",
    "y = [0.0850, 0.224, 1.957, 12.61, 22.37]\n",
    "\n",
    "import matplotlib.pyplot as plt\n",
    "\n",
    "plt.figure(dpi=300)\n",
    "\n",
    "plt.plot(x, y, 'r--')\n",
    "plt.xlabel(\"Number of points\")\n",
    "plt.ylabel(\"Time (s)\")\n",
    "plt.title(\"Decimation time (target reduction = 0.9) vs number of points\")\n",
    "plt.show()"
   ]
  },
  {
   "cell_type": "code",
   "execution_count": 27,
   "metadata": {},
   "outputs": [
    {
     "data": {
      "text/html": [
       "\n",
       "<table>\n",
       "<tr><th>PolyData</th><th>Information</th></tr>\n",
       "<tr><td>N Cells</td><td>380128</td></tr>\n",
       "<tr><td>N Points</td><td>190581</td></tr>\n",
       "<tr><td>N Strips</td><td>0</td></tr>\n",
       "<tr><td>X Bounds</td><td>-1.680e+02, 1.720e+02</td></tr>\n",
       "<tr><td>Y Bounds</td><td>-1.624e+02, 1.320e+02</td></tr>\n",
       "<tr><td>Z Bounds</td><td>-6.442e+02, 9.083e+01</td></tr>\n",
       "<tr><td>N Arrays</td><td>0</td></tr>\n",
       "</table>\n",
       "\n"
      ],
      "text/plain": [
       "PolyData (0x7f2f1a1975e0)\n",
       "  N Cells:    380128\n",
       "  N Points:   190581\n",
       "  N Strips:   0\n",
       "  X Bounds:   -1.680e+02, 1.720e+02\n",
       "  Y Bounds:   -1.624e+02, 1.320e+02\n",
       "  Z Bounds:   -6.442e+02, 9.083e+01\n",
       "  N Arrays:   0"
      ]
     },
     "execution_count": 27,
     "metadata": {},
     "output_type": "execute_result"
    }
   ],
   "source": [
    "import pyvista.examples\n",
    "import pyvista\n",
    "import skshapes as sks\n",
    "\n",
    "torso = pyvista.examples.download_torso()\n",
    "\n",
    "import pyacvd\n",
    "clus = pyacvd.Clustering(torso)\n",
    "clus.subdivide(2)\n",
    "clus.cluster(10)\n",
    "\n",
    "clus.__dict__\n",
    "\n",
    "mesh = clus.mesh\n",
    "clusters = clus.clusters\n",
    "\n",
    "mesh"
   ]
  },
  {
   "cell_type": "code",
   "execution_count": 44,
   "metadata": {},
   "outputs": [
    {
     "name": "stdout",
     "output_type": "stream",
     "text": [
      "CPU times: user 1.54 s, sys: 0 ns, total: 1.54 s\n",
      "Wall time: 1.55 s\n"
     ]
    },
    {
     "data": {
      "text/plain": [
       "<skshapes.data.polydata.PolyData at 0x7fc28e40d670>"
      ]
     },
     "execution_count": 44,
     "metadata": {},
     "output_type": "execute_result"
    }
   ],
   "source": [
    "import skshapes as sks\n",
    "import numpy as np\n",
    "import torch\n",
    "\n",
    "clusters = np.load(\"clusters100.npy\")\n",
    "mesh = sks.PolyData(\"../face_data/data/cranes/raw/patient_2_m_205.obj\")\n",
    "\n",
    "%time mesh.decimate(target_reduction=0.99)"
   ]
  },
  {
   "cell_type": "code",
   "execution_count": 40,
   "metadata": {},
   "outputs": [],
   "source": [
    "# add cluster as a batch dimension\n",
    "subpoints = [points[clusters == i] for i in range(100)]\n"
   ]
  },
  {
   "cell_type": "code",
   "execution_count": 23,
   "metadata": {},
   "outputs": [],
   "source": [
    "# Test multiprocessing/numba\n",
    "\n",
    "import numba as nb\n",
    "import numpy as np\n",
    "\n",
    "@nb.njit()\n",
    "def sum_arrays(arr1, arr2):\n",
    "    \n",
    "    assert arr1.shape == arr2.shape\n",
    "    size = arr1.shape[0]\n",
    "    arr = np.zeros(size)\n",
    "    for i in range(size):\n",
    "        arr[i] = arr1[i] + arr2[i]\n",
    "    return arr\n",
    "\n",
    "@nb.njit(parallel=True)\n",
    "def sum_arrays_parallel(arr1, arr2):\n",
    "    assert arr1.shape == arr2.shape\n",
    "    size = arr1.shape[0]\n",
    "    arr = np.zeros(size)\n",
    "    for i in nb.prange(size):\n",
    "        arr[i] = arr1[i] + arr2[i]\n",
    "    return arr\n",
    "\n",
    "\n",
    "array1 = np.random.rand(10000000)\n",
    "array2 = np.random.rand(10000000)\n",
    "\n",
    "assert np.allclose(sum_arrays(array1, array2), sum_arrays_parallel(array1, array2))"
   ]
  },
  {
   "cell_type": "code",
   "execution_count": 24,
   "metadata": {},
   "outputs": [
    {
     "name": "stdout",
     "output_type": "stream",
     "text": [
      "51.3 ms ± 438 µs per loop (mean ± std. dev. of 7 runs, 10 loops each)\n",
      "22.3 ms ± 1.96 ms per loop (mean ± std. dev. of 7 runs, 10 loops each)\n"
     ]
    }
   ],
   "source": [
    "%timeit sum_arrays(array1, array2)\n",
    "%timeit sum_arrays_parallel(array1, array2)"
   ]
  },
  {
   "cell_type": "code",
   "execution_count": 20,
   "metadata": {},
   "outputs": [
    {
     "name": "stdout",
     "output_type": "stream",
     "text": [
      "[array([[-5.55111512e-17,  0.00000000e+00, -5.00000000e-01],\n",
      "       [ 5.55111512e-17,  0.00000000e+00,  5.00000000e-01],\n",
      "       [-5.40595092e-02,  0.00000000e+00, -4.97068971e-01],\n",
      "       ...,\n",
      "       [-1.56162009e-01, -3.31932604e-02,  4.73826587e-01],\n",
      "       [-1.05136409e-01, -2.23474335e-02,  4.88310277e-01],\n",
      "       [-5.28781787e-02, -1.12396041e-02,  4.97068971e-01]]), array([[-5.55111512e-17,  0.00000000e+00, -5.00000000e-01],\n",
      "       [ 5.55111512e-17,  0.00000000e+00,  5.00000000e-01],\n",
      "       [-5.40595092e-02,  0.00000000e+00, -4.97068971e-01],\n",
      "       ...,\n",
      "       [-1.56162009e-01, -3.31932604e-02,  4.73826587e-01],\n",
      "       [-1.05136409e-01, -2.23474335e-02,  4.88310277e-01],\n",
      "       [-5.28781787e-02, -1.12396041e-02,  4.97068971e-01]])]\n"
     ]
    }
   ],
   "source": [
    "from multiprocessing import Pool\n",
    "import numpy as np\n",
    "import skshapes as sks\n",
    "import torch\n",
    "\n",
    "mesh1 = sks.Sphere()\n",
    "mesh2 = sks.Sphere()\n",
    "\n",
    "points = [mesh1.points.cpu().to(torch.float64).numpy(), mesh2.points.cpu().to(torch.float64).numpy()]\n",
    "triangles = [mesh1.triangles.cpu().to(torch.int64).numpy(), mesh2.triangles.cpu().to(torch.int64).numpy()]\n",
    "\n",
    "meshes = [(points[i], triangles[i]) for i in range(len(points))]\n",
    "\n",
    "def f(m):\n",
    "    points = m[0]\n",
    "    triangles = m[1]\n",
    "    return points\n",
    "\n",
    "if __name__ == '__main__':\n",
    "    with Pool(20) as p:\n",
    "        print(p.map(f, meshes))"
   ]
  },
  {
   "cell_type": "code",
   "execution_count": 1,
   "metadata": {},
   "outputs": [],
   "source": [
    "# SuperFastPython.com\n",
    "# example of transmitting data to child process via an argument\n",
    "from time import time\n",
    "from multiprocessing import Process\n",
    "from multiprocessing import set_start_method\n",
    "import skshapes as sks\n",
    "import pyvista.examples\n",
    "\n",
    "bunny = pyvista.examples.download_bunny()\n",
    "\n",
    "# task to run in a new process\n",
    "def task(data):\n",
    "    # access the data\n",
    "    # d = sks.Decimation(target_reduction=0.9, method='sks')\n",
    "    d = sks.Decimation(target_reduction=0.9, method='sks')\n",
    "    d.fit_transform(data)\n",
    " \n",
    "# run a test and time how long it takes\n",
    "def test(n_repeats):\n",
    "    # create the data to share\n",
    "    data = sks.PolyData(bunny)\n",
    "    \n",
    "    processes = []\n",
    "    # repeat many times\n",
    "    for i in range(n_repeats):\n",
    "        # create the process\n",
    "        process = Process(target=task, args=(data.copy(), ))\n",
    "        # start the process\n",
    "        process.start()\n",
    "        # add the process to the list\n",
    "        processes.append(process)\n",
    "    \n",
    "    # wait for all processes to complete\n",
    "    for process in processes:\n",
    "        # wait for the process to complete\n",
    "        process.join()\n",
    " \n",
    "\n",
    "# set the fork start method, to be consistent\n",
    "# set_start_method('fork')\n",
    "# record the start time\n",
    "time_start = time()\n",
    "# perform the test\n",
    "n_repeats = 1\n",
    "test(n_repeats)\n",
    "# record the end time\n",
    "time_end = time()\n",
    "# report the total time\n",
    "duration = time_end - time_start\n",
    "print(f'Total Time {duration} seconds')\n",
    "# report estimated time per test\n",
    "# per_test = duration / n_repeats\n",
    "# print(f'About {per_test} seconds per process')"
   ]
  },
  {
   "cell_type": "code",
   "execution_count": 1,
   "metadata": {},
   "outputs": [
    {
     "name": "stdout",
     "output_type": "stream",
     "text": [
      "[KeOps] Warning : cuda was detected, but driver API could not be initialized. Switching to cpu only.\n"
     ]
    },
    {
     "name": "stderr",
     "output_type": "stream",
     "text": [
      "/opt/conda/lib/python3.8/site-packages/torch/cuda/__init__.py:82: UserWarning: CUDA initialization: CUDA unknown error - this may be due to an incorrectly set up environment, e.g. changing env variable CUDA_VISIBLE_DEVICES after program start. Setting the available devices to be zero. (Triggered internally at  /opt/conda/conda-bld/pytorch_1646755903507/work/c10/cuda/CUDAFunctions.cpp:112.)\n",
      "  return torch._C._cuda_getDeviceCount() > 0\n"
     ]
    },
    {
     "name": "stdout",
     "output_type": "stream",
     "text": [
      "Decimation took 7.55 seconds\n",
      "Everything is in RAM\n",
      "Decimation took 14.51 seconds\n"
     ]
    }
   ],
   "source": [
    "import skshapes as sks\n",
    "import pyvista.examples\n",
    "import torch\n",
    "import pymeshdecimation.numba as pymd\n",
    "from time import time\n",
    "from multiprocessing import Process\n",
    "\n",
    "# Load mesh\n",
    "mesh = sks.PolyData(pyvista.examples.download_bunny())\n",
    "points = mesh.points.cpu().to(torch.float64).numpy()\n",
    "triangles = mesh.triangles.cpu().to(torch.int64).numpy()\n",
    "\n",
    "# Decimate mesh\n",
    "start = time()\n",
    "a, b, c = pymd.decimate(points, triangles, 0.5)\n",
    "print(f\"Decimation took {time() - start:.2f} seconds\")\n",
    "\n",
    "\n",
    "# Parallel\n",
    "def task(points, triangles):\n",
    "    # access the data\n",
    "    # d = sks.Decimation(target_reduction=0.9, method='sks')\n",
    "    return pymd.decimate(points, triangles, 0.5)\n",
    " \n",
    "\n",
    "from time import sleep\n",
    "\n",
    "n_repeats = 15\n",
    "from multiprocessing import Pool\n",
    "\n",
    "meshes = [sks.PolyData(pyvista.examples.download_bunny()) for i in range(n_repeats)]\n",
    "points = [mesh.points.cpu().to(torch.float64).numpy() for mesh in meshes]\n",
    "triangles = [mesh.triangles.cpu().to(torch.int64).numpy() for mesh in meshes]\n",
    "\n",
    "print(\"Everything is in RAM\")\n",
    "sleep(5)\n",
    "\n",
    "start = time()\n",
    "with Pool(n_repeats) as p:\n",
    "    output = p.starmap(task, [(points[i], triangles[i]) for i in range(n_repeats)])\n",
    "    # Issue : slow and memory-consuming: points and triangles are copied (pickled/unpickled)\n",
    "\n",
    "print(f\"Decimation took {time() - start:.2f} seconds\")\n",
    "\n",
    "import numpy as np\n",
    "\n",
    "for i in range(n_repeats):\n",
    "    for j in range(n_repeats):\n",
    "        for k in range(3):\n",
    "            assert np.allclose(\n",
    "                output[i][k],\n",
    "                output[j][k]\n",
    "            )\n"
   ]
  },
  {
   "cell_type": "code",
   "execution_count": 22,
   "metadata": {},
   "outputs": [
    {
     "name": "stdout",
     "output_type": "stream",
     "text": [
      "[1 2 3 4 5]\n",
      "<class 'numpy.ndarray'>\n"
     ]
    },
    {
     "data": {
      "text/plain": [
       "'array'"
      ]
     },
     "execution_count": 22,
     "metadata": {},
     "output_type": "execute_result"
    }
   ],
   "source": [
    "# In the first Python interactive shell\n",
    "import numpy as np\n",
    "from multiprocessing import shared_memory\n",
    "\n",
    "a  = np.array([1,2,3,4,5])\n",
    "\n",
    "shm = shared_memory.SharedMemory(create=True, size=a.nbytes, name='array')\n",
    "# Now create a NumPy array backed by shared memory\n",
    "b = np.ndarray(a.shape, dtype=a.dtype, buffer=shm.buf)\n",
    "b[:] = a[:]  # Copy the original data into shared memory\n",
    "\n",
    "del a\n",
    "\n",
    "print(b)\n",
    "print(type(b))\n",
    "shm.name"
   ]
  },
  {
   "cell_type": "code",
   "execution_count": 2,
   "metadata": {},
   "outputs": [],
   "source": [
    "import skshapes as sks\n",
    "import pyvista.examples\n",
    "\n",
    "d = sks.Decimation(target_reduction=0.9, method='vtk')\n",
    "\n",
    "mesh = sks.PolyData(pyvista.examples.download_louis_louvre())\n",
    "\n",
    "mesh_decimated = d.fit_transform(mesh)"
   ]
  }
 ],
 "metadata": {
  "kernelspec": {
   "display_name": "base",
   "language": "python",
   "name": "python3"
  },
  "language_info": {
   "codemirror_mode": {
    "name": "ipython",
    "version": 3
   },
   "file_extension": ".py",
   "mimetype": "text/x-python",
   "name": "python",
   "nbconvert_exporter": "python",
   "pygments_lexer": "ipython3",
   "version": "3.8.13"
  },
  "orig_nbformat": 4,
  "vscode": {
   "interpreter": {
    "hash": "d4d1e4263499bec80672ea0156c357c1ee493ec2b1c70f0acce89fc37c4a6abe"
   }
  }
 },
 "nbformat": 4,
 "nbformat_minor": 2
}
