{
 "cells": [
  {
   "cell_type": "code",
   "execution_count": 1,
   "metadata": {},
   "outputs": [
    {
     "name": "stderr",
     "output_type": "stream",
     "text": [
      "/opt/conda/lib/python3.8/site-packages/tqdm/auto.py:22: TqdmWarning: IProgress not found. Please update jupyter and ipywidgets. See https://ipywidgets.readthedocs.io/en/stable/user_install.html\n",
      "  from .autonotebook import tqdm as notebook_tqdm\n"
     ]
    }
   ],
   "source": [
    "from skshapes.morphing import ElasticMetric\n",
    "from skshapes.loss import OptimalTransportLoss\n",
    "from skshapes.data import read\n",
    "from skshapes.tasks import DistanceMatrix"
   ]
  },
  {
   "cell_type": "code",
   "execution_count": 12,
   "metadata": {},
   "outputs": [],
   "source": [
    "# Load some shapes\n",
    "import os\n",
    "datafolder = '/home/GitHub/scikit-shapes-draft/data/SCAPE/decimated/'\n",
    "shapes = [read(os.path.join(datafolder, f'aligned_mesh{i:03d}.ply')) for i in range(4)]\n",
    "\n",
    "dm = DistanceMatrix(\n",
    "    model=ElasticMetric(),\n",
    "    loss=OptimalTransportLoss(),\n",
    "    verbose=1,\n",
    "    n_iter=3,\n",
    "    n_steps=5,)\n",
    "\n",
    "dm.fit(shapes=shapes)\n"
   ]
  },
  {
   "cell_type": "code",
   "execution_count": 9,
   "metadata": {},
   "outputs": [
    {
     "data": {
      "text/plain": [
       "tensor([[ 864,  871,  842,  ..., 1558, 1560, 1561],\n",
       "        [ 871,  842,  864,  ..., 1559, 1561, 1559]])"
      ]
     },
     "execution_count": 9,
     "metadata": {},
     "output_type": "execute_result"
    }
   ],
   "source": []
  }
 ],
 "metadata": {
  "kernelspec": {
   "display_name": "base",
   "language": "python",
   "name": "python3"
  },
  "language_info": {
   "codemirror_mode": {
    "name": "ipython",
    "version": 3
   },
   "file_extension": ".py",
   "mimetype": "text/x-python",
   "name": "python",
   "nbconvert_exporter": "python",
   "pygments_lexer": "ipython3",
   "version": "3.8.13"
  },
  "orig_nbformat": 4,
  "vscode": {
   "interpreter": {
    "hash": "d4d1e4263499bec80672ea0156c357c1ee493ec2b1c70f0acce89fc37c4a6abe"
   }
  }
 },
 "nbformat": 4,
 "nbformat_minor": 2
}
